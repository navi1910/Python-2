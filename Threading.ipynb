{
 "cells": [
  {
   "cell_type": "code",
   "execution_count": 2,
   "id": "c64711e1",
   "metadata": {},
   "outputs": [],
   "source": [
    "import threading"
   ]
  },
  {
   "cell_type": "code",
   "execution_count": 3,
   "id": "1648da29",
   "metadata": {},
   "outputs": [],
   "source": [
    "def show():\n",
    "    print('This is a child thread')"
   ]
  },
  {
   "cell_type": "code",
   "execution_count": 5,
   "id": "4fa70836",
   "metadata": {},
   "outputs": [
    {
     "name": "stdout",
     "output_type": "stream",
     "text": [
      "This is a child thread\n",
      "Parent thread\n"
     ]
    }
   ],
   "source": [
    "t = threading.Thread(target = show())\n",
    "t.start()\n",
    "print('Parent thread')"
   ]
  },
  {
   "cell_type": "code",
   "execution_count": 27,
   "id": "0ae2cc53",
   "metadata": {},
   "outputs": [],
   "source": [
    "import time\n",
    "import threading\n",
    "\n",
    "def print_1():\n",
    "    print('Start: ', threading.currentThread().name)\n",
    "    time.sleep(5)\n",
    "    print('End: ', threading.currentThread().name)\n",
    "    \n",
    "def print_2():\n",
    "    print('Start: ', threading.currentThread().name)\n",
    "    print('End: ', threading.currentThread().name)"
   ]
  },
  {
   "cell_type": "code",
   "execution_count": 28,
   "id": "41d1db4b",
   "metadata": {},
   "outputs": [],
   "source": [
    "a = threading.Thread(target = print_1, name = 'Thread1', daemon = True)\n",
    "\n",
    "b = threading.Thread(target = print_2, name = 'Thread2')"
   ]
  },
  {
   "cell_type": "code",
   "execution_count": 29,
   "id": "1f260603",
   "metadata": {},
   "outputs": [
    {
     "name": "stdout",
     "output_type": "stream",
     "text": [
      "Start:  Thread1\n",
      "Start:  Thread2\n",
      "End:  Thread2\n",
      "End:  Thread1\n"
     ]
    }
   ],
   "source": [
    "a.start()\n",
    "b.start()"
   ]
  },
  {
   "cell_type": "code",
   "execution_count": 37,
   "id": "f35b6faa",
   "metadata": {},
   "outputs": [
    {
     "name": "stdout",
     "output_type": "stream",
     "text": [
      "Thread 0 going to sleepCurrent Thread Count: 7\n",
      "\n",
      "Thread 1 going to sleepCurrent Thread Count: 8\n",
      "\n",
      "Thread 2 going to sleepCurrent Thread Count: 9\n",
      "\n",
      "Thread 3 going to sleepCurrent Thread Count: a\n",
      "\n",
      "Thread 4 going to sleepCurrent Thread Count: b\n",
      "\n",
      "Thread 5 going to sleepCurrent Thread Count: c\n",
      "\n",
      "Thread 6 going to sleepCurrent Thread Count: d\n",
      "\n",
      "Thread 7 going to sleepCurrent Thread Count: e\n",
      "\n",
      "Thread 8 going to sleepCurrent Thread Count: f\n",
      "\n",
      "Thread 9 going to sleepCurrent Thread Count: 10\n",
      "\n",
      "Thread 0 is now activeThread 1 is now active\n",
      "\n",
      "Thread 2 is now active\n",
      "Thread 3 is now active\n",
      "Thread 7 is now activeThread 6 is now activeThread 4 is now active\n",
      "Thread 5 is now active\n",
      "\n",
      "\n",
      "Thread 8 is now activeThread 9 is now active\n",
      "\n"
     ]
    }
   ],
   "source": [
    "def Sleep_func(x):\n",
    "    print('Thread %x going to sleep' %x)\n",
    "    time.sleep(3)\n",
    "    print('Thread %x is now active' %x)\n",
    "    \n",
    "for x in range(10):\n",
    "    th = threading.Thread(target= Sleep_func, args = (x,))\n",
    "    th.start()\n",
    "    print('Current Thread Count: %x' %threading.active_count())"
   ]
  },
  {
   "cell_type": "code",
   "execution_count": 39,
   "id": "168921ac",
   "metadata": {},
   "outputs": [
    {
     "name": "stdout",
     "output_type": "stream",
     "text": [
      "delayed for 3 seconds\n"
     ]
    }
   ],
   "source": [
    "def delayed():\n",
    "    print('delayed for 3 seconds')\n",
    "    \n",
    "thread = threading.Timer(5, delayed)\n",
    "thread.start()"
   ]
  },
  {
   "cell_type": "code",
   "execution_count": 48,
   "id": "26ac697f",
   "metadata": {},
   "outputs": [],
   "source": [
    "lock = threading.Lock()\n",
    "deposit = 50\n",
    "\n",
    "def add_profit():\n",
    "    global deposit\n",
    "    for i in range(100000):\n",
    "        lock.acquire()\n",
    "        deposit = deposit + 10\n",
    "        lock.release()\n",
    "        \n",
    "def pay_bill():\n",
    "    global deposit\n",
    "    for i in range(100000):\n",
    "        lock.acquire()\n",
    "        deposit = deposit - 10\n",
    "        lock.release()"
   ]
  },
  {
   "cell_type": "code",
   "execution_count": 53,
   "id": "7a5514cd",
   "metadata": {},
   "outputs": [
    {
     "name": "stdout",
     "output_type": "stream",
     "text": [
      "50\n"
     ]
    }
   ],
   "source": [
    "thread1 = threading.Thread(target = add_profit, args = ())\n",
    "thread2 = threading.Thread(target = pay_bill, args = ())\n",
    "\n",
    "thread1.start()\n",
    "thread2.start()\n",
    "\n",
    "thread1.join()\n",
    "thread2.join()\n",
    "\n",
    "print(deposit)"
   ]
  },
  {
   "cell_type": "code",
   "execution_count": null,
   "id": "20b6acb8",
   "metadata": {},
   "outputs": [],
   "source": []
  },
  {
   "cell_type": "code",
   "execution_count": null,
   "id": "64f7e459",
   "metadata": {},
   "outputs": [],
   "source": []
  }
 ],
 "metadata": {
  "kernelspec": {
   "display_name": "Python 3 (ipykernel)",
   "language": "python",
   "name": "python3"
  },
  "language_info": {
   "codemirror_mode": {
    "name": "ipython",
    "version": 3
   },
   "file_extension": ".py",
   "mimetype": "text/x-python",
   "name": "python",
   "nbconvert_exporter": "python",
   "pygments_lexer": "ipython3",
   "version": "3.9.12"
  }
 },
 "nbformat": 4,
 "nbformat_minor": 5
}

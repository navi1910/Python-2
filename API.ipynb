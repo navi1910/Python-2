{
 "cells": [
  {
   "cell_type": "code",
   "execution_count": 1,
   "id": "3110d496",
   "metadata": {},
   "outputs": [],
   "source": [
    "import requests"
   ]
  },
  {
   "cell_type": "code",
   "execution_count": 2,
   "id": "48f82ff0",
   "metadata": {},
   "outputs": [],
   "source": [
    "key = '7645c564ea36454c8e4e03c788702956'"
   ]
  },
  {
   "cell_type": "code",
   "execution_count": 3,
   "id": "1c26e911",
   "metadata": {},
   "outputs": [
    {
     "data": {
      "text/plain": [
       "'7645c564ea36454c8e4e03c788702956'"
      ]
     },
     "execution_count": 3,
     "metadata": {},
     "output_type": "execute_result"
    }
   ],
   "source": [
    "key"
   ]
  },
  {
   "cell_type": "code",
   "execution_count": 4,
   "id": "f92e337d",
   "metadata": {},
   "outputs": [],
   "source": [
    "url = f'https://api.weatherbit.io/v2.0/current?lat=35.7796&lon=-78.6382&key={key}&include=minutely'"
   ]
  },
  {
   "cell_type": "code",
   "execution_count": 6,
   "id": "a196a2bf",
   "metadata": {},
   "outputs": [],
   "source": [
    "data = requests.get(url)"
   ]
  },
  {
   "cell_type": "code",
   "execution_count": 9,
   "id": "81b1455f",
   "metadata": {},
   "outputs": [],
   "source": [
    "data = data.json()"
   ]
  },
  {
   "cell_type": "code",
   "execution_count": 24,
   "id": "03351e7c",
   "metadata": {},
   "outputs": [
    {
     "data": {
      "text/plain": [
       "{'precip': 0,\n",
       " 'snow': 0,\n",
       " 'temp': 26,\n",
       " 'ts': 1690337580,\n",
       " 'timestamp_local': '2023-07-25T22:13:00',\n",
       " 'timestamp_utc': '2023-07-26T02:13:00'}"
      ]
     },
     "execution_count": 24,
     "metadata": {},
     "output_type": "execute_result"
    }
   ],
   "source": [
    "data['minutely'][0]"
   ]
  },
  {
   "cell_type": "code",
   "execution_count": 19,
   "id": "19653323",
   "metadata": {},
   "outputs": [
    {
     "data": {
      "text/plain": [
       "60"
      ]
     },
     "execution_count": 19,
     "metadata": {},
     "output_type": "execute_result"
    }
   ],
   "source": [
    "len(data['minutely'])"
   ]
  },
  {
   "cell_type": "code",
   "execution_count": 26,
   "id": "d55ed71d",
   "metadata": {},
   "outputs": [],
   "source": [
    "temp = []\n",
    "precip = []\n",
    "snow = []\n",
    "ts = []\n",
    "\n",
    "for i in range(len(data['minutely'])):\n",
    "    z = data['minutely'][i]\n",
    "    temp.append(z['temp'])\n",
    "    precip.append(z['precip'])\n",
    "    snow.append(z['snow'])\n",
    "    ts.append(z['ts'])"
   ]
  },
  {
   "cell_type": "code",
   "execution_count": 27,
   "id": "4ba121b8",
   "metadata": {},
   "outputs": [],
   "source": [
    "import pandas as pd"
   ]
  },
  {
   "cell_type": "code",
   "execution_count": 36,
   "id": "8f075fa7",
   "metadata": {},
   "outputs": [],
   "source": [
    "df = pd.DataFrame({'Temperature':temp, 'Rain':precip, 'Snow':snow,\n",
    "             'TimeStamp':ts})"
   ]
  },
  {
   "cell_type": "code",
   "execution_count": 37,
   "id": "d9b1b764",
   "metadata": {},
   "outputs": [],
   "source": [
    "def weather_data(key = '7645c564ea36454c8e4e03c788702956'):\n",
    "    import requests\n",
    "    import pandas as pd\n",
    "\n",
    "    url = f'https://api.weatherbit.io/v2.0/current?lat=35.7796&lon=-78.6382&key={key}&include=minutely'\n",
    "    data = requests.get(url)\n",
    "    data = data.json()\n",
    "\n",
    "    temp = []\n",
    "    precip = []\n",
    "    snow = []\n",
    "    ts = []\n",
    "\n",
    "    for i in range(len(data['minutely'])):\n",
    "        z = data['minutely'][i]\n",
    "        temp.append(z['temp'])\n",
    "        precip.append(z['precip'])\n",
    "        snow.append(z['snow'])\n",
    "        ts.append(z['ts'])\n",
    "\n",
    "    df = pd.DataFrame({'Temperature':temp, 'Rain':precip, 'Snow':snow,\n",
    "                 'TimeStamp':ts})\n",
    "    \n",
    "    return df"
   ]
  },
  {
   "cell_type": "code",
   "execution_count": 39,
   "id": "5414ff21",
   "metadata": {},
   "outputs": [],
   "source": [
    "weather_data().to_csv('Weather.csv', index = False)"
   ]
  },
  {
   "cell_type": "code",
   "execution_count": null,
   "id": "ebbdc830",
   "metadata": {},
   "outputs": [],
   "source": []
  }
 ],
 "metadata": {
  "kernelspec": {
   "display_name": "Python 3 (ipykernel)",
   "language": "python",
   "name": "python3"
  },
  "language_info": {
   "codemirror_mode": {
    "name": "ipython",
    "version": 3
   },
   "file_extension": ".py",
   "mimetype": "text/x-python",
   "name": "python",
   "nbconvert_exporter": "python",
   "pygments_lexer": "ipython3",
   "version": "3.9.12"
  }
 },
 "nbformat": 4,
 "nbformat_minor": 5
}

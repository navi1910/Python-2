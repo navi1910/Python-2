{
 "cells": [
  {
   "cell_type": "code",
   "execution_count": 4,
   "id": "67c6d84c",
   "metadata": {},
   "outputs": [],
   "source": [
    "import zlib"
   ]
  },
  {
   "cell_type": "code",
   "execution_count": 5,
   "id": "0a84fc13",
   "metadata": {},
   "outputs": [],
   "source": [
    "s = b'Hello, this is, python compress.'"
   ]
  },
  {
   "cell_type": "code",
   "execution_count": 6,
   "id": "e585c5bc",
   "metadata": {},
   "outputs": [
    {
     "name": "stdout",
     "output_type": "stream",
     "text": [
      "32\n"
     ]
    }
   ],
   "source": [
    "print(len(s))"
   ]
  },
  {
   "cell_type": "code",
   "execution_count": 7,
   "id": "e408b30d",
   "metadata": {},
   "outputs": [],
   "source": [
    "t = zlib.compress(s)"
   ]
  },
  {
   "cell_type": "code",
   "execution_count": 8,
   "id": "8276c232",
   "metadata": {},
   "outputs": [
    {
     "name": "stdout",
     "output_type": "stream",
     "text": [
      "40\n"
     ]
    }
   ],
   "source": [
    "print(len(t))"
   ]
  },
  {
   "cell_type": "code",
   "execution_count": 9,
   "id": "96b556dd",
   "metadata": {},
   "outputs": [],
   "source": [
    "import sys"
   ]
  },
  {
   "cell_type": "code",
   "execution_count": 10,
   "id": "8c73881a",
   "metadata": {},
   "outputs": [],
   "source": [
    "input_file = r\"E:\\Besant Python 2\\wiki_large_para.txt\"\n",
    "output_file = 'Output_file'"
   ]
  },
  {
   "cell_type": "code",
   "execution_count": 16,
   "id": "37ad10be",
   "metadata": {},
   "outputs": [
    {
     "name": "stdout",
     "output_type": "stream",
     "text": [
      "Original size: 2785\n",
      "Compressed size: 1249\n"
     ]
    }
   ],
   "source": [
    "with open(input_file, mode = 'rb') as fin, open(output_file, mode = 'wb') as fout:\n",
    "    data = fin.read()\n",
    "    print(f'Original size: {sys.getsizeof(data)}')\n",
    "    \n",
    "    compressed_data = zlib.compress(data, zlib.Z_BEST_COMPRESSION)\n",
    "    print(f'Compressed size: {sys.getsizeof(compressed_data)}')\n",
    "    fout.write(compressed_data)"
   ]
  },
  {
   "cell_type": "code",
   "execution_count": 18,
   "id": "d81dd03c",
   "metadata": {},
   "outputs": [
    {
     "name": "stdout",
     "output_type": "stream",
     "text": [
      "Compressed Size: 1249\n",
      "Decompressed Size: 2785\n"
     ]
    }
   ],
   "source": [
    "with open('Output_file', mode = 'rb') as f:\n",
    "    data = f.read()\n",
    "    decompressed_data = zlib.decompress(data)\n",
    "    \n",
    "    print(f'Compressed Size: {sys.getsizeof(data)}')\n",
    "    print(f'Decompressed Size: {sys.getsizeof(decompressed_data)}')"
   ]
  },
  {
   "cell_type": "code",
   "execution_count": 19,
   "id": "eec888a4",
   "metadata": {},
   "outputs": [
    {
     "data": {
      "text/plain": [
       "['a', 'b', 'd', 'e', 's', 't', 'z']"
      ]
     },
     "execution_count": 19,
     "metadata": {},
     "output_type": "execute_result"
    }
   ],
   "source": [
    "sorted('azbedst')"
   ]
  },
  {
   "cell_type": "code",
   "execution_count": 20,
   "id": "0e1683df",
   "metadata": {},
   "outputs": [
    {
     "data": {
      "text/plain": [
       "['z', 't', 's', 'e', 'd', 'b', 'a']"
      ]
     },
     "execution_count": 20,
     "metadata": {},
     "output_type": "execute_result"
    }
   ],
   "source": [
    "sorted('azbedst', reverse= True)"
   ]
  },
  {
   "cell_type": "code",
   "execution_count": 21,
   "id": "5cb6af3f",
   "metadata": {},
   "outputs": [
    {
     "data": {
      "text/plain": [
       "[10, 12, 30, 31]"
      ]
     },
     "execution_count": 21,
     "metadata": {},
     "output_type": "execute_result"
    }
   ],
   "source": [
    "sorted([12, 10 , 30, 31])"
   ]
  },
  {
   "cell_type": "code",
   "execution_count": 22,
   "id": "e69010fa",
   "metadata": {},
   "outputs": [
    {
     "data": {
      "text/plain": [
       "[31, 30, 12, 10]"
      ]
     },
     "execution_count": 22,
     "metadata": {},
     "output_type": "execute_result"
    }
   ],
   "source": [
    "sorted([12, 10 , 30, 31], reverse = True)"
   ]
  },
  {
   "cell_type": "code",
   "execution_count": null,
   "id": "6b121b00",
   "metadata": {},
   "outputs": [],
   "source": []
  }
 ],
 "metadata": {
  "kernelspec": {
   "display_name": "Python 3 (ipykernel)",
   "language": "python",
   "name": "python3"
  },
  "language_info": {
   "codemirror_mode": {
    "name": "ipython",
    "version": 3
   },
   "file_extension": ".py",
   "mimetype": "text/x-python",
   "name": "python",
   "nbconvert_exporter": "python",
   "pygments_lexer": "ipython3",
   "version": "3.9.12"
  }
 },
 "nbformat": 4,
 "nbformat_minor": 5
}

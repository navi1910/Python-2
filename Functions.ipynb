{
 "cells": [
  {
   "cell_type": "code",
   "execution_count": null,
   "id": "80e8afe8",
   "metadata": {},
   "outputs": [],
   "source": [
    "function(para1, para2, para3......)"
   ]
  },
  {
   "cell_type": "code",
   "execution_count": 1,
   "id": "6d593d42",
   "metadata": {},
   "outputs": [],
   "source": [
    "import pandas as pd"
   ]
  },
  {
   "cell_type": "code",
   "execution_count": 2,
   "id": "48a860f0",
   "metadata": {},
   "outputs": [],
   "source": [
    "import numpy as np"
   ]
  },
  {
   "cell_type": "code",
   "execution_count": 3,
   "id": "fcb5ebdb",
   "metadata": {},
   "outputs": [],
   "source": [
    "list1 = [0,1,2,4,7,8,10,20]"
   ]
  },
  {
   "cell_type": "code",
   "execution_count": 4,
   "id": "471177e2",
   "metadata": {},
   "outputs": [
    {
     "data": {
      "text/plain": [
       "20"
      ]
     },
     "execution_count": 4,
     "metadata": {},
     "output_type": "execute_result"
    }
   ],
   "source": [
    "np.max(list1)"
   ]
  },
  {
   "cell_type": "code",
   "execution_count": 5,
   "id": "04412459",
   "metadata": {},
   "outputs": [
    {
     "data": {
      "text/plain": [
       "0"
      ]
     },
     "execution_count": 5,
     "metadata": {},
     "output_type": "execute_result"
    }
   ],
   "source": [
    "np.min(list1)"
   ]
  },
  {
   "cell_type": "code",
   "execution_count": null,
   "id": "8d417538",
   "metadata": {},
   "outputs": [],
   "source": [
    "x*2"
   ]
  },
  {
   "cell_type": "code",
   "execution_count": 8,
   "id": "8dcf7830",
   "metadata": {},
   "outputs": [],
   "source": [
    "def multiply_2(x):\n",
    "    return x*2"
   ]
  },
  {
   "cell_type": "code",
   "execution_count": 7,
   "id": "619a23ff",
   "metadata": {},
   "outputs": [
    {
     "data": {
      "text/plain": [
       "20"
      ]
     },
     "execution_count": 7,
     "metadata": {},
     "output_type": "execute_result"
    }
   ],
   "source": [
    "multiply_2(10)"
   ]
  },
  {
   "cell_type": "code",
   "execution_count": 10,
   "id": "4b64b196",
   "metadata": {},
   "outputs": [
    {
     "data": {
      "text/plain": [
       "'HelloHello'"
      ]
     },
     "execution_count": 10,
     "metadata": {},
     "output_type": "execute_result"
    }
   ],
   "source": [
    "multiply_2('Hello')"
   ]
  },
  {
   "cell_type": "code",
   "execution_count": null,
   "id": "09b11277",
   "metadata": {},
   "outputs": [],
   "source": [
    "(a+b)*b"
   ]
  },
  {
   "cell_type": "code",
   "execution_count": 12,
   "id": "913ee5cb",
   "metadata": {},
   "outputs": [],
   "source": [
    "def func1(a,b):\n",
    "    return (a+b)*b"
   ]
  },
  {
   "cell_type": "code",
   "execution_count": 13,
   "id": "518ce0ac",
   "metadata": {},
   "outputs": [
    {
     "data": {
      "text/plain": [
       "6"
      ]
     },
     "execution_count": 13,
     "metadata": {},
     "output_type": "execute_result"
    }
   ],
   "source": [
    "func1(1,2)"
   ]
  },
  {
   "cell_type": "code",
   "execution_count": 14,
   "id": "563df3ef",
   "metadata": {},
   "outputs": [
    {
     "data": {
      "text/plain": [
       "3"
      ]
     },
     "execution_count": 14,
     "metadata": {},
     "output_type": "execute_result"
    }
   ],
   "source": [
    "func1(2,1)"
   ]
  },
  {
   "cell_type": "code",
   "execution_count": 15,
   "id": "09d53014",
   "metadata": {},
   "outputs": [],
   "source": [
    "#func2 -> (a+b)*b , b->10"
   ]
  },
  {
   "cell_type": "code",
   "execution_count": 18,
   "id": "553211e1",
   "metadata": {},
   "outputs": [],
   "source": [
    "def func2(a, b = 10):\n",
    "    return (a+b)*b"
   ]
  },
  {
   "cell_type": "code",
   "execution_count": 20,
   "id": "9f99eac8",
   "metadata": {},
   "outputs": [
    {
     "data": {
      "text/plain": [
       "500"
      ]
     },
     "execution_count": 20,
     "metadata": {},
     "output_type": "execute_result"
    }
   ],
   "source": [
    "func2(5, 20)"
   ]
  },
  {
   "cell_type": "code",
   "execution_count": 21,
   "id": "6c632b92",
   "metadata": {},
   "outputs": [
    {
     "data": {
      "text/plain": [
       "500"
      ]
     },
     "execution_count": 21,
     "metadata": {},
     "output_type": "execute_result"
    }
   ],
   "source": [
    "func2(b = 20, a = 5)"
   ]
  },
  {
   "cell_type": "code",
   "execution_count": 22,
   "id": "2866beb8",
   "metadata": {},
   "outputs": [],
   "source": [
    "??print"
   ]
  },
  {
   "cell_type": "code",
   "execution_count": 25,
   "id": "1737393b",
   "metadata": {},
   "outputs": [],
   "source": [
    "def func3(Name):\n",
    "    '''This function returns the name with a greeting'''\n",
    "    print('Hello I am '+ Name)"
   ]
  },
  {
   "cell_type": "code",
   "execution_count": 26,
   "id": "6052bf26",
   "metadata": {},
   "outputs": [
    {
     "name": "stdout",
     "output_type": "stream",
     "text": [
      "Hello I am Naveen\n"
     ]
    }
   ],
   "source": [
    "func3('Naveen')"
   ]
  },
  {
   "cell_type": "code",
   "execution_count": 27,
   "id": "ba56d0ab",
   "metadata": {},
   "outputs": [],
   "source": [
    "??func3"
   ]
  },
  {
   "cell_type": "code",
   "execution_count": 30,
   "id": "5bad143b",
   "metadata": {},
   "outputs": [],
   "source": [
    "def area_circle(r):\n",
    "    '''This function returns Area of Circle for given Radius.'''\n",
    "    pi = 22/7\n",
    "    return pi*(r**2)"
   ]
  },
  {
   "cell_type": "code",
   "execution_count": 31,
   "id": "44f5a44d",
   "metadata": {},
   "outputs": [
    {
     "data": {
      "text/plain": [
       "12.571428571428571"
      ]
     },
     "execution_count": 31,
     "metadata": {},
     "output_type": "execute_result"
    }
   ],
   "source": [
    "area_circle(2)"
   ]
  },
  {
   "cell_type": "code",
   "execution_count": 37,
   "id": "e670e891",
   "metadata": {},
   "outputs": [],
   "source": [
    "??area_circle"
   ]
  },
  {
   "cell_type": "code",
   "execution_count": null,
   "id": "8b9acd83",
   "metadata": {},
   "outputs": [],
   "source": []
  }
 ],
 "metadata": {
  "kernelspec": {
   "display_name": "Python 3 (ipykernel)",
   "language": "python",
   "name": "python3"
  },
  "language_info": {
   "codemirror_mode": {
    "name": "ipython",
    "version": 3
   },
   "file_extension": ".py",
   "mimetype": "text/x-python",
   "name": "python",
   "nbconvert_exporter": "python",
   "pygments_lexer": "ipython3",
   "version": "3.9.12"
  }
 },
 "nbformat": 4,
 "nbformat_minor": 5
}

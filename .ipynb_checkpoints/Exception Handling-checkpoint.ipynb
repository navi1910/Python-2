{
 "cells": [
  {
   "cell_type": "markdown",
   "id": "edc8993c",
   "metadata": {},
   "source": [
    "## Exception Handling"
   ]
  },
  {
   "cell_type": "code",
   "execution_count": 12,
   "id": "8d20516c",
   "metadata": {},
   "outputs": [
    {
     "name": "stdout",
     "output_type": "stream",
     "text": [
      "There was an error.\n"
     ]
    }
   ],
   "source": [
    "try:\n",
    "    print('a'+12)\n",
    "except:\n",
    "    print('There was an error.')"
   ]
  },
  {
   "cell_type": "code",
   "execution_count": 18,
   "id": "a5ae2da8",
   "metadata": {},
   "outputs": [
    {
     "name": "stdout",
     "output_type": "stream",
     "text": [
      "Value for a: 0\n",
      "Value for b: 0\n"
     ]
    },
    {
     "ename": "ZeroDivisionError",
     "evalue": "division by zero",
     "output_type": "error",
     "traceback": [
      "\u001b[1;31m---------------------------------------------------------------------------\u001b[0m",
      "\u001b[1;31mZeroDivisionError\u001b[0m                         Traceback (most recent call last)",
      "Input \u001b[1;32mIn [18]\u001b[0m, in \u001b[0;36m<cell line: 3>\u001b[1;34m()\u001b[0m\n\u001b[0;32m      1\u001b[0m a \u001b[38;5;241m=\u001b[39m \u001b[38;5;28mint\u001b[39m(\u001b[38;5;28minput\u001b[39m(\u001b[38;5;124m'\u001b[39m\u001b[38;5;124mValue for a: \u001b[39m\u001b[38;5;124m'\u001b[39m))\n\u001b[0;32m      2\u001b[0m b \u001b[38;5;241m=\u001b[39m \u001b[38;5;28mint\u001b[39m(\u001b[38;5;28minput\u001b[39m(\u001b[38;5;124m'\u001b[39m\u001b[38;5;124mValue for b: \u001b[39m\u001b[38;5;124m'\u001b[39m))\n\u001b[1;32m----> 3\u001b[0m \u001b[38;5;28mprint\u001b[39m(\u001b[43ma\u001b[49m\u001b[38;5;241;43m/\u001b[39;49m\u001b[43mb\u001b[49m)\n",
      "\u001b[1;31mZeroDivisionError\u001b[0m: division by zero"
     ]
    }
   ],
   "source": [
    "a = int(input('Value for a: '))\n",
    "b = int(input('Value for b: '))\n",
    "print(a/b)"
   ]
  },
  {
   "cell_type": "code",
   "execution_count": 20,
   "id": "180da11c",
   "metadata": {},
   "outputs": [
    {
     "name": "stdout",
     "output_type": "stream",
     "text": [
      "Value for a: 0\n",
      "Value for b: 0\n",
      "division by zero\n"
     ]
    }
   ],
   "source": [
    "try:\n",
    "    a = int(input('Value for a: '))\n",
    "    b = int(input('Value for b: '))\n",
    "    print(a/b)\n",
    "    \n",
    "except Exception as e:\n",
    "    print(e)"
   ]
  },
  {
   "cell_type": "code",
   "execution_count": 30,
   "id": "7659dc53",
   "metadata": {},
   "outputs": [
    {
     "name": "stdout",
     "output_type": "stream",
     "text": [
      "a: 0\n",
      "b: 0\n",
      "\n",
      " There was a zero division error.\n",
      "\n",
      " This is the finally block.\n"
     ]
    }
   ],
   "source": [
    "try:\n",
    "    a = int(input('a: '))\n",
    "    b = int(input('b: '))\n",
    "    print(a/b)\n",
    "    \n",
    "except TypeError:\n",
    "    print('\\n Re-enter values Type Error occured.')\n",
    "    a = int(input('Re-enter \"a\" value as integer: '))\n",
    "    b = int(input('Re-enter b value: '))\n",
    "    \n",
    "except ValueError:\n",
    "    print('\\n The values entered were wrong.')\n",
    "    \n",
    "except ZeroDivisionError:\n",
    "    print('\\n There was a zero division error.')\n",
    "\n",
    "else:\n",
    "    print('\\n Try statement was successful. This is the else block.')\n",
    "    \n",
    "finally:\n",
    "    print('\\n This is the finally block.')"
   ]
  },
  {
   "cell_type": "code",
   "execution_count": 42,
   "id": "0b4b4984",
   "metadata": {},
   "outputs": [],
   "source": [
    "def function_1(rect = False, square = False):\n",
    "    try:\n",
    "        a = int(input('Value for a: '))\n",
    "    \n",
    "        if rect == True:\n",
    "            b = int(input('Value for b: '))\n",
    "            perimeter = 2*(a+b)\n",
    "        \n",
    "        else:\n",
    "            pass\n",
    "    \n",
    "        if square == True:\n",
    "            perimeter = 4*a\n",
    "            \n",
    "        pi = 22/7\n",
    "        cir = 2*pi*a\n",
    "        \n",
    "        print(f'\\nThe Circumference is {cir}\\n')\n",
    "        print(f'The perimeter is {perimeter}.')\n",
    "    \n",
    "    except ValueError:\n",
    "        print('\\n There was a Value Error, enter values as numeric.\\n')\n",
    "        \n",
    "        a = int(input('Value for a: '))\n",
    "    \n",
    "        if rect == True:\n",
    "            b = int(input('Value for b: '))\n",
    "            perimeter = 2*(a+b)\n",
    "        \n",
    "        else:\n",
    "            pass\n",
    "    \n",
    "        if square == True:\n",
    "            perimeter = 4*a\n",
    "        pi = 22/7\n",
    "        cir = 2*pi*a\n",
    "        \n",
    "        print(f'\\nThe Circumference is {cir}\\n')\n",
    "        print(f'The perimeter is {perimeter}.')"
   ]
  },
  {
   "cell_type": "code",
   "execution_count": null,
   "id": "f354e650",
   "metadata": {},
   "outputs": [],
   "source": [
    "function_1(square = True)"
   ]
  },
  {
   "cell_type": "code",
   "execution_count": null,
   "id": "928451c9",
   "metadata": {},
   "outputs": [],
   "source": []
  }
 ],
 "metadata": {
  "kernelspec": {
   "display_name": "Python 3 (ipykernel)",
   "language": "python",
   "name": "python3"
  },
  "language_info": {
   "codemirror_mode": {
    "name": "ipython",
    "version": 3
   },
   "file_extension": ".py",
   "mimetype": "text/x-python",
   "name": "python",
   "nbconvert_exporter": "python",
   "pygments_lexer": "ipython3",
   "version": "3.9.12"
  }
 },
 "nbformat": 4,
 "nbformat_minor": 5
}

{
 "cells": [
  {
   "cell_type": "code",
   "execution_count": 6,
   "id": "dcb8e4f4",
   "metadata": {},
   "outputs": [],
   "source": [
    "x = 10"
   ]
  },
  {
   "cell_type": "code",
   "execution_count": 7,
   "id": "d1325a09",
   "metadata": {},
   "outputs": [
    {
     "data": {
      "text/plain": [
       "'hello'"
      ]
     },
     "execution_count": 7,
     "metadata": {},
     "output_type": "execute_result"
    }
   ],
   "source": [
    "'Hello'.lower()"
   ]
  },
  {
   "cell_type": "code",
   "execution_count": 15,
   "id": "0b886bd3",
   "metadata": {},
   "outputs": [],
   "source": [
    "class my_class:\n",
    "    x = 10\n",
    "    y = 12"
   ]
  },
  {
   "cell_type": "code",
   "execution_count": 16,
   "id": "27509654",
   "metadata": {},
   "outputs": [],
   "source": [
    "p1 = my_class()"
   ]
  },
  {
   "cell_type": "code",
   "execution_count": 17,
   "id": "52202ca7",
   "metadata": {},
   "outputs": [
    {
     "data": {
      "text/plain": [
       "10"
      ]
     },
     "execution_count": 17,
     "metadata": {},
     "output_type": "execute_result"
    }
   ],
   "source": [
    "p1.x"
   ]
  },
  {
   "cell_type": "code",
   "execution_count": 18,
   "id": "c18a3158",
   "metadata": {},
   "outputs": [
    {
     "data": {
      "text/plain": [
       "12"
      ]
     },
     "execution_count": 18,
     "metadata": {},
     "output_type": "execute_result"
    }
   ],
   "source": [
    "p1.y"
   ]
  },
  {
   "cell_type": "code",
   "execution_count": 26,
   "id": "6e5e63f6",
   "metadata": {},
   "outputs": [],
   "source": [
    "class info:\n",
    "    def __init__(self, name, age):\n",
    "        self.name = name\n",
    "        self.age = age"
   ]
  },
  {
   "cell_type": "code",
   "execution_count": 27,
   "id": "80249459",
   "metadata": {},
   "outputs": [],
   "source": [
    "person = info('John', 18)"
   ]
  },
  {
   "cell_type": "code",
   "execution_count": 28,
   "id": "76cf3c95",
   "metadata": {},
   "outputs": [
    {
     "name": "stdout",
     "output_type": "stream",
     "text": [
      "John\n",
      "18\n"
     ]
    }
   ],
   "source": [
    "print(person.name)\n",
    "print(person.age)"
   ]
  },
  {
   "cell_type": "code",
   "execution_count": 24,
   "id": "8ecc6df4",
   "metadata": {},
   "outputs": [],
   "source": [
    "person2 = info('Mary')"
   ]
  },
  {
   "cell_type": "code",
   "execution_count": 25,
   "id": "6a7e062e",
   "metadata": {},
   "outputs": [
    {
     "name": "stdout",
     "output_type": "stream",
     "text": [
      "Mary\n"
     ]
    }
   ],
   "source": [
    "print(person2.name)"
   ]
  },
  {
   "cell_type": "code",
   "execution_count": 32,
   "id": "63b19574",
   "metadata": {},
   "outputs": [],
   "source": [
    "class person:\n",
    "    def __init__(self, name, age):\n",
    "        self.name = name\n",
    "        self.age = age\n",
    "        \n",
    "    def __str__(self):\n",
    "        return f'The name is {self.name} and the age is {self.age}.'"
   ]
  },
  {
   "cell_type": "code",
   "execution_count": 39,
   "id": "23923c3d",
   "metadata": {},
   "outputs": [],
   "source": [
    "p3 = person('Peter', 20)"
   ]
  },
  {
   "cell_type": "code",
   "execution_count": 40,
   "id": "45db8cf9",
   "metadata": {},
   "outputs": [
    {
     "name": "stdout",
     "output_type": "stream",
     "text": [
      "The name is Peter and the age is 20.\n"
     ]
    }
   ],
   "source": [
    "print(p3)"
   ]
  },
  {
   "cell_type": "code",
   "execution_count": 41,
   "id": "d1a10795",
   "metadata": {},
   "outputs": [
    {
     "data": {
      "text/plain": [
       "20"
      ]
     },
     "execution_count": 41,
     "metadata": {},
     "output_type": "execute_result"
    }
   ],
   "source": [
    "p3.age"
   ]
  },
  {
   "cell_type": "code",
   "execution_count": 47,
   "id": "7ab81ca1",
   "metadata": {},
   "outputs": [],
   "source": [
    "class person:\n",
    "    def __init__(self, name, age):\n",
    "        self.name = name\n",
    "        self.age = age\n",
    "        \n",
    "    def func1(self):\n",
    "        print(f'The age is {self.age}')\n",
    "    \n",
    "    def license(self):\n",
    "        if self.age >= 18:\n",
    "            print('Yes')\n",
    "        else:\n",
    "            print('No')"
   ]
  },
  {
   "cell_type": "code",
   "execution_count": 59,
   "id": "7aeb3c90",
   "metadata": {},
   "outputs": [],
   "source": [
    "person2 = person('John', 17)"
   ]
  },
  {
   "cell_type": "code",
   "execution_count": 60,
   "id": "29f781f6",
   "metadata": {},
   "outputs": [
    {
     "name": "stdout",
     "output_type": "stream",
     "text": [
      "No\n"
     ]
    }
   ],
   "source": [
    "person2.license()"
   ]
  },
  {
   "cell_type": "code",
   "execution_count": 61,
   "id": "54436852",
   "metadata": {},
   "outputs": [],
   "source": [
    "person2.age = 40"
   ]
  },
  {
   "cell_type": "code",
   "execution_count": 62,
   "id": "2ce25178",
   "metadata": {},
   "outputs": [
    {
     "name": "stdout",
     "output_type": "stream",
     "text": [
      "Yes\n"
     ]
    }
   ],
   "source": [
    "person2.license()"
   ]
  },
  {
   "cell_type": "code",
   "execution_count": 65,
   "id": "1a8e02e6",
   "metadata": {},
   "outputs": [],
   "source": [
    "del person"
   ]
  },
  {
   "cell_type": "code",
   "execution_count": 66,
   "id": "74fceee5",
   "metadata": {},
   "outputs": [
    {
     "ename": "NameError",
     "evalue": "name 'person' is not defined",
     "output_type": "error",
     "traceback": [
      "\u001b[1;31m---------------------------------------------------------------------------\u001b[0m",
      "\u001b[1;31mNameError\u001b[0m                                 Traceback (most recent call last)",
      "Input \u001b[1;32mIn [66]\u001b[0m, in \u001b[0;36m<cell line: 1>\u001b[1;34m()\u001b[0m\n\u001b[1;32m----> 1\u001b[0m \u001b[43mperson\u001b[49m(\u001b[38;5;124m'\u001b[39m\u001b[38;5;124mJohn\u001b[39m\u001b[38;5;124m'\u001b[39m,\u001b[38;5;241m18\u001b[39m)\n",
      "\u001b[1;31mNameError\u001b[0m: name 'person' is not defined"
     ]
    }
   ],
   "source": [
    "person('John',18)"
   ]
  },
  {
   "cell_type": "code",
   "execution_count": 1,
   "id": "ed5f8a90",
   "metadata": {},
   "outputs": [],
   "source": [
    "class fruits:\n",
    "    def __init__(self, name, color, shape):\n",
    "        self.name = name\n",
    "        self.color = color\n",
    "        self.shape = shape\n",
    "        \n",
    "    def __str__(self):\n",
    "        return f'The fruit is {self.name}, with color {self.color} and shape {self.shape}.'"
   ]
  },
  {
   "cell_type": "code",
   "execution_count": 2,
   "id": "1935fddf",
   "metadata": {},
   "outputs": [],
   "source": [
    "apple = fruits('Apple', 'Red', 'Spherical')"
   ]
  },
  {
   "cell_type": "code",
   "execution_count": 5,
   "id": "297eab37",
   "metadata": {},
   "outputs": [],
   "source": [
    "class berries(fruits):\n",
    "    def __init__(self, name, color , shape, taste):\n",
    "        super().__init__(name, color, shape)\n",
    "        self.taste = taste"
   ]
  },
  {
   "cell_type": "code",
   "execution_count": 6,
   "id": "fea92376",
   "metadata": {},
   "outputs": [],
   "source": [
    "blue_berries = berries('Blue Berries', 'Blue', 'Oval', 'Sweet')"
   ]
  },
  {
   "cell_type": "code",
   "execution_count": 8,
   "id": "4e8fbe72",
   "metadata": {},
   "outputs": [
    {
     "data": {
      "text/plain": [
       "'Oval'"
      ]
     },
     "execution_count": 8,
     "metadata": {},
     "output_type": "execute_result"
    }
   ],
   "source": [
    "blue_berries.shape"
   ]
  },
  {
   "cell_type": "code",
   "execution_count": 28,
   "id": "99d28de0",
   "metadata": {},
   "outputs": [],
   "source": [
    "class b1(fruits):\n",
    "    def __init__(self):\n",
    "        self.str1 = 'Fruit1'\n",
    "        print('b1')\n",
    "        \n",
    "class b2(fruits):\n",
    "    def __init__(self):\n",
    "        self.str2 = 'Fruit2'\n",
    "        print('b2')\n",
    "\n",
    "class Derived(b1,b2):\n",
    "    def __init__(self):\n",
    "        b1.__init__(self)\n",
    "        b2.__init__(self)\n",
    "\n",
    "    def printstr(self):\n",
    "        print(self.str1, self.str2 )"
   ]
  },
  {
   "cell_type": "code",
   "execution_count": 29,
   "id": "166d8e00",
   "metadata": {},
   "outputs": [
    {
     "name": "stdout",
     "output_type": "stream",
     "text": [
      "b1\n",
      "b2\n"
     ]
    }
   ],
   "source": [
    "obj = Derived()"
   ]
  },
  {
   "cell_type": "code",
   "execution_count": 30,
   "id": "87356ff4",
   "metadata": {},
   "outputs": [
    {
     "name": "stdout",
     "output_type": "stream",
     "text": [
      "Fruit1 Fruit2\n"
     ]
    }
   ],
   "source": [
    "obj.printstr()"
   ]
  },
  {
   "cell_type": "markdown",
   "id": "cc1cde14",
   "metadata": {},
   "source": [
    "# Custom Errors"
   ]
  },
  {
   "cell_type": "code",
   "execution_count": 2,
   "id": "d808a61b",
   "metadata": {},
   "outputs": [
    {
     "ename": "NameError",
     "evalue": "name 'hskjsk' is not defined",
     "output_type": "error",
     "traceback": [
      "\u001b[1;31m---------------------------------------------------------------------------\u001b[0m",
      "\u001b[1;31mNameError\u001b[0m                                 Traceback (most recent call last)",
      "Input \u001b[1;32mIn [2]\u001b[0m, in \u001b[0;36m<cell line: 1>\u001b[1;34m()\u001b[0m\n\u001b[1;32m----> 1\u001b[0m \u001b[38;5;28mprint\u001b[39m(\u001b[43mhskjsk\u001b[49m)\n",
      "\u001b[1;31mNameError\u001b[0m: name 'hskjsk' is not defined"
     ]
    }
   ],
   "source": [
    "print(hskjsk)"
   ]
  },
  {
   "cell_type": "code",
   "execution_count": 3,
   "id": "64d8d777",
   "metadata": {},
   "outputs": [
    {
     "ename": "SyntaxError",
     "evalue": "unexpected EOF while parsing (1871175265.py, line 1)",
     "output_type": "error",
     "traceback": [
      "\u001b[1;36m  Input \u001b[1;32mIn [3]\u001b[1;36m\u001b[0m\n\u001b[1;33m    print('hskjsk'\u001b[0m\n\u001b[1;37m                  ^\u001b[0m\n\u001b[1;31mSyntaxError\u001b[0m\u001b[1;31m:\u001b[0m unexpected EOF while parsing\n"
     ]
    }
   ],
   "source": [
    "print('hskjsk'"
   ]
  },
  {
   "cell_type": "code",
   "execution_count": 6,
   "id": "a92c50fc",
   "metadata": {},
   "outputs": [],
   "source": [
    "class My_Error(Exception):\n",
    "    def __init__(self, value):\n",
    "        self.value = value\n",
    "    \n",
    "    def __str__(self):\n",
    "        return f'{self.value} is the wrong value.'"
   ]
  },
  {
   "cell_type": "code",
   "execution_count": 7,
   "id": "0abe41de",
   "metadata": {},
   "outputs": [
    {
     "ename": "My_Error",
     "evalue": "10 is the wrong value.",
     "output_type": "error",
     "traceback": [
      "\u001b[1;31m---------------------------------------------------------------------------\u001b[0m",
      "\u001b[1;31mMy_Error\u001b[0m                                  Traceback (most recent call last)",
      "Input \u001b[1;32mIn [7]\u001b[0m, in \u001b[0;36m<cell line: 1>\u001b[1;34m()\u001b[0m\n\u001b[1;32m----> 1\u001b[0m \u001b[38;5;28;01mraise\u001b[39;00m My_Error(\u001b[38;5;241m10\u001b[39m)\n",
      "\u001b[1;31mMy_Error\u001b[0m: 10 is the wrong value."
     ]
    }
   ],
   "source": [
    "raise My_Error(10)"
   ]
  },
  {
   "cell_type": "code",
   "execution_count": 8,
   "id": "1a75863a",
   "metadata": {},
   "outputs": [],
   "source": [
    "class error_with_args(Exception):\n",
    "    def __init__(self, *args):\n",
    "        if args:\n",
    "            self.message = args[0]\n",
    "        else:\n",
    "            self.message = None\n",
    "    \n",
    "    def __str__(self):\n",
    "        print('This is the str function.')\n",
    "        \n",
    "        if self.message:\n",
    "            return f'The error is {self.message}'\n",
    "        else:\n",
    "            return 'Custom Error has been raised'"
   ]
  },
  {
   "cell_type": "code",
   "execution_count": 9,
   "id": "65941a4a",
   "metadata": {},
   "outputs": [
    {
     "name": "stdout",
     "output_type": "stream",
     "text": [
      "This is the str function.\n"
     ]
    },
    {
     "ename": "error_with_args",
     "evalue": "Custom Error has been raised",
     "output_type": "error",
     "traceback": [
      "\u001b[1;31m---------------------------------------------------------------------------\u001b[0m",
      "\u001b[1;31merror_with_args\u001b[0m                           Traceback (most recent call last)",
      "Input \u001b[1;32mIn [9]\u001b[0m, in \u001b[0;36m<cell line: 1>\u001b[1;34m()\u001b[0m\n\u001b[1;32m----> 1\u001b[0m \u001b[38;5;28;01mraise\u001b[39;00m error_with_args\n",
      "\u001b[1;31merror_with_args\u001b[0m: Custom Error has been raised"
     ]
    },
    {
     "name": "stdout",
     "output_type": "stream",
     "text": [
      "This is the str function.\n",
      "This is the str function.\n"
     ]
    }
   ],
   "source": [
    "raise error_with_args"
   ]
  },
  {
   "cell_type": "code",
   "execution_count": null,
   "id": "2b1c98f9",
   "metadata": {},
   "outputs": [],
   "source": []
  }
 ],
 "metadata": {
  "kernelspec": {
   "display_name": "Python 3 (ipykernel)",
   "language": "python",
   "name": "python3"
  },
  "language_info": {
   "codemirror_mode": {
    "name": "ipython",
    "version": 3
   },
   "file_extension": ".py",
   "mimetype": "text/x-python",
   "name": "python",
   "nbconvert_exporter": "python",
   "pygments_lexer": "ipython3",
   "version": "3.9.12"
  }
 },
 "nbformat": 4,
 "nbformat_minor": 5
}

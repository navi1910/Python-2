{
 "cells": [
  {
   "cell_type": "markdown",
   "id": "f1cd2c35",
   "metadata": {},
   "source": [
    "## Conditional Statements"
   ]
  },
  {
   "cell_type": "code",
   "execution_count": 1,
   "id": "b1d457ab",
   "metadata": {},
   "outputs": [],
   "source": [
    "list1 = [1,2,3,4,5]"
   ]
  },
  {
   "cell_type": "code",
   "execution_count": 4,
   "id": "a88e9b6b",
   "metadata": {},
   "outputs": [
    {
     "data": {
      "text/plain": [
       "True"
      ]
     },
     "execution_count": 4,
     "metadata": {},
     "output_type": "execute_result"
    }
   ],
   "source": [
    "5 in list1"
   ]
  },
  {
   "cell_type": "code",
   "execution_count": 7,
   "id": "acf3c051",
   "metadata": {},
   "outputs": [
    {
     "name": "stdout",
     "output_type": "stream",
     "text": [
      "Statement is True.\n",
      "This is statement 2\n"
     ]
    }
   ],
   "source": [
    "if 3>2:\n",
    "    print('Statement is True.')\n",
    "    print('This is statement 2.')"
   ]
  },
  {
   "cell_type": "code",
   "execution_count": 8,
   "id": "a074b276",
   "metadata": {},
   "outputs": [
    {
     "name": "stdout",
     "output_type": "stream",
     "text": [
      "This is the elif block\n"
     ]
    }
   ],
   "source": [
    "if 1>2:\n",
    "    print('Statement is True.')\n",
    "elif 3>2:\n",
    "    print('This is the elif block')"
   ]
  },
  {
   "cell_type": "code",
   "execution_count": 14,
   "id": "84adeb2c",
   "metadata": {},
   "outputs": [
    {
     "name": "stdout",
     "output_type": "stream",
     "text": [
      "Nothing mentioned was in list1.\n"
     ]
    }
   ],
   "source": [
    "if 6 in list1:\n",
    "    print('yes')\n",
    "elif 7 in list1:\n",
    "    print('5')\n",
    "elif 8 in list1:\n",
    "    print('3')\n",
    "else:\n",
    "    print('Nothing mentioned was in list1.')"
   ]
  },
  {
   "cell_type": "code",
   "execution_count": 16,
   "id": "35de43f2",
   "metadata": {},
   "outputs": [
    {
     "name": "stdout",
     "output_type": "stream",
     "text": [
      "Yes, its True\n"
     ]
    }
   ],
   "source": [
    "if 7<8:print('Yes, its True')"
   ]
  },
  {
   "cell_type": "code",
   "execution_count": 17,
   "id": "dfbbc029",
   "metadata": {},
   "outputs": [
    {
     "name": "stdout",
     "output_type": "stream",
     "text": [
      "This is for the not keyword.\n"
     ]
    }
   ],
   "source": [
    "if not 7>8:\n",
    "    print('This is for the not keyword.')"
   ]
  },
  {
   "cell_type": "code",
   "execution_count": 20,
   "id": "6f4fa072",
   "metadata": {},
   "outputs": [
    {
     "data": {
      "text/plain": [
       "0"
      ]
     },
     "execution_count": 20,
     "metadata": {},
     "output_type": "execute_result"
    }
   ],
   "source": [
    "0 if 3>2 else 1"
   ]
  },
  {
   "cell_type": "code",
   "execution_count": 23,
   "id": "2fcae02f",
   "metadata": {},
   "outputs": [],
   "source": [
    "x = 1000\n",
    "y = 10000"
   ]
  },
  {
   "cell_type": "code",
   "execution_count": 24,
   "id": "f75da61c",
   "metadata": {},
   "outputs": [
    {
     "name": "stdout",
     "output_type": "stream",
     "text": [
      "y is greater\n"
     ]
    }
   ],
   "source": [
    "if x>y:\n",
    "    print('x is greater than y')\n",
    "else:\n",
    "    print('y is greater')"
   ]
  },
  {
   "cell_type": "code",
   "execution_count": 25,
   "id": "616b311f",
   "metadata": {},
   "outputs": [],
   "source": [
    "name = 'John'\n",
    "age = 28"
   ]
  },
  {
   "cell_type": "code",
   "execution_count": 31,
   "id": "d3af7e1e",
   "metadata": {},
   "outputs": [
    {
     "data": {
      "text/plain": [
       "'Hey there, I am Naveen, I am 28 years old.'"
      ]
     },
     "execution_count": 31,
     "metadata": {},
     "output_type": "execute_result"
    }
   ],
   "source": [
    "'Hey there, I am {}, I am {} years old.'.format('Naveen', age)"
   ]
  },
  {
   "cell_type": "code",
   "execution_count": 37,
   "id": "6f1b95ce",
   "metadata": {},
   "outputs": [
    {
     "name": "stdout",
     "output_type": "stream",
     "text": [
      "This is the input Value for a : 10\n"
     ]
    }
   ],
   "source": [
    "a = int(input('This is the input Value for a : '))"
   ]
  },
  {
   "cell_type": "code",
   "execution_count": 38,
   "id": "b1e27cf9",
   "metadata": {},
   "outputs": [
    {
     "data": {
      "text/plain": [
       "10"
      ]
     },
     "execution_count": 38,
     "metadata": {},
     "output_type": "execute_result"
    }
   ],
   "source": [
    "a"
   ]
  },
  {
   "cell_type": "code",
   "execution_count": 42,
   "id": "5c1c3ac3",
   "metadata": {},
   "outputs": [
    {
     "name": "stdout",
     "output_type": "stream",
     "text": [
      "Enter your Name:Naveen\n"
     ]
    }
   ],
   "source": [
    "name = input('Enter your Name:')"
   ]
  },
  {
   "cell_type": "code",
   "execution_count": 43,
   "id": "f6164511",
   "metadata": {},
   "outputs": [
    {
     "data": {
      "text/plain": [
       "'Naveen'"
      ]
     },
     "execution_count": 43,
     "metadata": {},
     "output_type": "execute_result"
    }
   ],
   "source": [
    "name"
   ]
  },
  {
   "cell_type": "code",
   "execution_count": 46,
   "id": "b073f38f",
   "metadata": {},
   "outputs": [
    {
     "name": "stdout",
     "output_type": "stream",
     "text": [
      "Enter Password: John\n",
      "Your are authorized.\n"
     ]
    }
   ],
   "source": [
    "Password = input('Enter Password: ')\n",
    "\n",
    "if Password == 'John':\n",
    "    print('Your are authorized.')\n",
    "\n",
    "else:\n",
    "    print('Not Authorized.')"
   ]
  },
  {
   "cell_type": "code",
   "execution_count": null,
   "id": "82a9d876",
   "metadata": {},
   "outputs": [],
   "source": []
  }
 ],
 "metadata": {
  "kernelspec": {
   "display_name": "Python 3 (ipykernel)",
   "language": "python",
   "name": "python3"
  },
  "language_info": {
   "codemirror_mode": {
    "name": "ipython",
    "version": 3
   },
   "file_extension": ".py",
   "mimetype": "text/x-python",
   "name": "python",
   "nbconvert_exporter": "python",
   "pygments_lexer": "ipython3",
   "version": "3.9.12"
  }
 },
 "nbformat": 4,
 "nbformat_minor": 5
}

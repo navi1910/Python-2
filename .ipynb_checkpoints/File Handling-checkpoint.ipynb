{
 "cells": [
  {
   "cell_type": "markdown",
   "id": "dd752eb3",
   "metadata": {},
   "source": [
    "## File Handling using python"
   ]
  },
  {
   "cell_type": "markdown",
   "id": "a0e65baa",
   "metadata": {},
   "source": [
    "## File Handling\n",
    "\n",
    "So far we have seen different Python data types. We usually store our data in different file formats. In addition to handling files, we will also see different file formats(.txt, .json, .xml, .csv, .tsv, .excel) in this section. First, let us get familiar with handling files with common file format(.txt).\n",
    "\n",
    "File handling is an import part of programming which allows us to create, read, update and delete files. In Python to handle data we use _open()_ built-in function.\n",
    "\n",
    "```py\n",
    "# Syntax\n",
    "open('filename', mode) # mode(r, a, w, x, t,b)  could be to read, write, update\n",
    "```\n",
    "\n",
    "- \"r\" - Read - Default value. Opens a file for reading, it returns an error if the file does not exist\n",
    "- \"a\" - Append - Opens a file for appending, creates the file if it does not exist\n",
    "- \"w\" - Write - Opens a file for writing, creates the file if it does not exist\n",
    "- \"x\" - Create - Creates the specified file, returns an error if the file exists\n",
    "- \"t\" - Text - Default value. Text mode\n",
    "- \"b\" - Binary - Binary mode (e.g. images)\n",
    "\n",
    "### Opening Files for Reading\n",
    "\n",
    "The default mode of _open_ is reading, so we do not have to specify 'r' or 'rt'. I have created and saved a file named reading_file_example.txt in the files directory. Let us see how it is done:\n",
    "\n",
    "```py\n",
    "f = open('./files/reading_file_example.txt')\n",
    "print(f) # <_io.TextIOWrapper name='./files/reading_file_example.txt' mode='r' encoding='UTF-8'>\n",
    "```\n",
    "\n",
    "As you can see in the example above, I printed the opened file and it gave  some information about it. Opened file has different reading methods: _read()_, _readline_, _readlines_. An opened file has to be closed with _close()_ method.\n",
    "\n",
    "- _read()_: read the whole text as string. If we want to limit the number of characters we want to read, we can limit it by passing int value to the *read(number)* method.\n",
    "\n",
    "```py\n",
    "f = open('./files/reading_file_example.txt')\n",
    "txt = f.read()\n",
    "print(type(txt))\n",
    "print(txt)\n",
    "f.close()\n",
    "```\n",
    "\n",
    "```sh\n",
    "# output\n",
    "<class 'str'>\n",
    "This is an example to show how to open a file and read.\n",
    "This is the second line of the text.\n",
    "```\n",
    "\n",
    "Instead of printing all the text, let us print the first 10 characters of the text file.\n",
    "\n",
    "```py\n",
    "f = open('./files/reading_file_example.txt')\n",
    "txt = f.read(10)\n",
    "print(type(txt))\n",
    "print(txt)\n",
    "f.close()\n",
    "```\n",
    "\n",
    "```sh\n",
    "# output\n",
    "<class 'str'>\n",
    "This is an\n",
    "```\n",
    "\n",
    "- _readline()_: read only the first line\n",
    "\n",
    "```py\n",
    "f = open('./files/reading_file_example.txt')\n",
    "line = f.readline()\n",
    "print(type(line))\n",
    "print(line)\n",
    "f.close()\n",
    "```\n",
    "\n",
    "```sh\n",
    "# output\n",
    "<class 'str'>\n",
    "This is an example to show how to open a file and read.\n",
    "```\n",
    "\n",
    "- _readlines()_: read all the text line by line and returns a list of lines\n",
    "\n",
    "```py\n",
    "f = open('./files/reading_file_example.txt')\n",
    "lines = f.readlines()\n",
    "print(type(lines))\n",
    "print(lines)\n",
    "f.close()\n",
    "```\n",
    "\n",
    "```sh\n",
    "# output\n",
    "<class 'list'>\n",
    "['This is an example to show how to open a file and read.\\n', 'This is the second line of the text.']\n",
    "```\n",
    "\n",
    "Another way to get all the lines as a list is using _splitlines()_:\n",
    "\n",
    "```py\n",
    "f = open('./files/reading_file_example.txt')\n",
    "lines = f.read().splitlines()\n",
    "print(type(lines))\n",
    "print(lines)\n",
    "f.close()\n",
    "```\n",
    "\n",
    "```sh\n",
    "# output\n",
    "<class 'list'>\n",
    "['This is an example to show how to open a file and read.', 'This is the second line of the text.']\n",
    "```\n",
    "\n",
    "After we open a file, we should close it. There is a high tendency of forgetting to close them. There is a new way of opening files using _with_ - closes the files by itself. Let us rewrite the the previous example with the _with_ method:\n",
    "\n",
    "```py\n",
    "with open('./files/reading_file_example.txt') as f:\n",
    "    lines = f.read().splitlines()\n",
    "    print(type(lines))\n",
    "    print(lines)\n",
    "```\n",
    "\n",
    "```sh\n",
    "# output\n",
    "<class 'list'>\n",
    "['This is an example to show how to open a file and read.', 'This is the second line of the text.']\n",
    "```\n",
    "\n",
    "### Opening Files for Writing and Updating\n",
    "\n",
    "To write to an existing file, we must add a mode as parameter to the _open()_ function:\n",
    "\n",
    "- \"a\" - append - will append to the end of the file, if the file does not it creates a new file.\n",
    "- \"w\" - write - will overwrite any existing content, if the file does not exist it creates.\n",
    "\n",
    "Let us append some text to the file we have been reading:\n",
    "\n",
    "```py\n",
    "with open('./files/reading_file_example.txt','a') as f:\n",
    "    f.write('This text has to be appended at the end')\n",
    "```\n",
    "\n",
    "The method below creates a new file, if the file does not exist:\n",
    "\n",
    "```py\n",
    "with open('./files/writing_file_example.txt','w') as f:\n",
    "    f.write('This text will be written in a newly created file')\n",
    "```\n",
    "\n",
    "### Deleting Files\n",
    "\n",
    "We have seen in previous section, how to make and remove a directory using _os_ module. Again now, if we want to remove a file we use _os_ module.\n",
    "\n",
    "```py\n",
    "import os\n",
    "os.remove('./files/example.txt')\n",
    "\n",
    "```\n",
    "\n",
    "If the file does not exist, the remove method will raise an error, so it is good to use a condition like this:\n",
    "\n",
    "```py\n",
    "import os\n",
    "if os.path.exists('./files/example.txt'):\n",
    "    os.remove('./files/example.txt')\n",
    "else:\n",
    "    print('The file does not exist')\n",
    "```\n",
    "\n",
    "## File Types\n",
    "\n",
    "### File with txt Extension\n",
    "\n",
    "File with _txt_ extension is a very common form of data and we have covered it in the previous section. Let us move to the JSON file\n",
    "\n",
    "### File with json Extension\n",
    "\n",
    "JSON stands for JavaScript Object Notation. Actually, it is a stringified JavaScript object or Python dictionary.\n",
    "\n",
    "_Example:_\n",
    "\n",
    "```py\n",
    "# dictionary\n",
    "person_dct= {\n",
    "    \"name\":\"Asabeneh\",\n",
    "    \"country\":\"Finland\",\n",
    "    \"city\":\"Helsinki\",\n",
    "    \"skills\":[\"JavaScrip\", \"React\",\"Python\"]\n",
    "}\n",
    "# JSON: A string form a dictionary\n",
    "person_json = \"{'name': 'Asabeneh', 'country': 'Finland', 'city': 'Helsinki', 'skills': ['JavaScrip', 'React', 'Python']}\"\n",
    "\n",
    "# we use three quotes and make it multiple line to make it more readable\n",
    "person_json = '''{\n",
    "    \"name\":\"Asabeneh\",\n",
    "    \"country\":\"Finland\",\n",
    "    \"city\":\"Helsinki\",\n",
    "    \"skills\":[\"JavaScrip\", \"React\",\"Python\"]\n",
    "}'''\n",
    "```\n",
    "\n",
    "### Changing JSON to Dictionary\n",
    "\n",
    "To change a JSON to a dictionary, first we import the json module and then we use _loads_ method.\n",
    "\n",
    "```py\n",
    "import json\n",
    "# JSON\n",
    "person_json = '''{\n",
    "    \"name\": \"Asabeneh\",\n",
    "    \"country\": \"Finland\",\n",
    "    \"city\": \"Helsinki\",\n",
    "    \"skills\": [\"JavaScrip\", \"React\", \"Python\"]\n",
    "}'''\n",
    "# let's change JSON to dictionary\n",
    "person_dct = json.loads(person_json)\n",
    "print(type(person_dct))\n",
    "print(person_dct)\n",
    "print(person_dct['name'])\n",
    "```\n",
    "\n",
    "```sh\n",
    "# output\n",
    "<class 'dict'>\n",
    "{'name': 'Asabeneh', 'country': 'Finland', 'city': 'Helsinki', 'skills': ['JavaScrip', 'React', 'Python']}\n",
    "Asabeneh\n",
    "```\n",
    "\n",
    "### Changing Dictionary to JSON\n",
    "\n",
    "To change a dictionary to a JSON we use _dumps_ method from the json module.\n",
    "\n",
    "```py\n",
    "import json\n",
    "# python dictionary\n",
    "person = {\n",
    "    \"name\": \"Asabeneh\",\n",
    "    \"country\": \"Finland\",\n",
    "    \"city\": \"Helsinki\",\n",
    "    \"skills\": [\"JavaScrip\", \"React\", \"Python\"]\n",
    "}\n",
    "# let's convert it to  json\n",
    "person_json = json.dumps(person, indent=4) # indent could be 2, 4, 8. It beautifies the json\n",
    "print(type(person_json))\n",
    "print(person_json)\n",
    "```\n",
    "\n",
    "```sh\n",
    "# output\n",
    "# when you print it, it does not have the quote, but actually it is a string\n",
    "# JSON does not have type, it is a string type.\n",
    "<class 'str'>\n",
    "{\n",
    "    \"name\": \"Asabeneh\",\n",
    "    \"country\": \"Finland\",\n",
    "    \"city\": \"Helsinki\",\n",
    "    \"skills\": [\n",
    "        \"JavaScrip\",\n",
    "        \"React\",\n",
    "        \"Python\"\n",
    "    ]\n",
    "}\n",
    "```\n",
    "\n",
    "### Saving as JSON File\n",
    "\n",
    "We can also save our data as a json file. Let us save it as a json file using the following steps. For writing a json file, we use the json.dump() method, it can take dictionary, output file, ensure_ascii and indent.\n",
    "\n",
    "```py\n",
    "import json\n",
    "# python dictionary\n",
    "person = {\n",
    "    \"name\": \"Asabeneh\",\n",
    "    \"country\": \"Finland\",\n",
    "    \"city\": \"Helsinki\",\n",
    "    \"skills\": [\"JavaScrip\", \"React\", \"Python\"]\n",
    "}\n",
    "with open('./files/json_example.json', 'w', encoding='utf-8') as f:\n",
    "    json.dump(person, f, ensure_ascii=False, indent=4)\n",
    "```\n",
    "\n",
    "In the code above, we use encoding and indentation. Indentation makes the json file easy to read.\n",
    "\n",
    "### File with csv Extension\n",
    "\n",
    "CSV stands for comma separated values. CSV is a simple file format used to store tabular data, such as a spreadsheet or database. CSV is a very common data format in data science.\n",
    "\n",
    "**Example:**\n",
    "\n",
    "```csv\n",
    "\"name\",\"country\",\"city\",\"skills\"\n",
    "\"Asabeneh\",\"Finland\",\"Helsinki\",\"JavaScript\"\n",
    "```\n",
    "\n",
    "**Example:**\n",
    "\n",
    "```py\n",
    "import csv\n",
    "with open('./files/csv_example.csv') as f:\n",
    "    csv_reader = csv.reader(f, delimiter=',') # w use, reader method to read csv\n",
    "    line_count = 0\n",
    "    for row in csv_reader:\n",
    "        if line_count == 0:\n",
    "            print(f'Column names are :{\", \".join(row)}')\n",
    "            line_count += 1\n",
    "        else:\n",
    "            print(\n",
    "                f'\\t{row[0]} is a teachers. He lives in {row[1]}, {row[2]}.')\n",
    "            line_count += 1\n",
    "    print(f'Number of lines:  {line_count}')\n",
    "```\n",
    "\n",
    "```sh\n",
    "# output:\n",
    "Column names are :name, country, city, skills\n",
    "        Asabeneh is a teacher. He lives in Finland, Helsinki.\n",
    "Number of lines:  2\n",
    "```\n",
    "\n",
    "### File with xlsx Extension\n",
    "\n",
    "To read excel files we need to install _xlrd_ package. We will cover this after we cover package installing using pip.\n",
    "\n",
    "```py\n",
    "import xlrd\n",
    "excel_book = xlrd.open_workbook('sample.xls)\n",
    "print(excel_book.nsheets)\n",
    "print(excel_book.sheet_names)\n",
    "```\n",
    "\n",
    "### File with xml Extension\n",
    "\n",
    "XML is another structured data format which looks like HTML. In XML the tags are not predefined. The first line is an XML declaration. The person tag is the root of the XML. The person has a gender attribute.\n",
    "**Example:XML**\n",
    "\n",
    "```xml\n",
    "<?xml version=\"1.0\"?>\n",
    "<person gender=\"female\">\n",
    "  <name>Asabeneh</name>\n",
    "  <country>Finland</country>\n",
    "  <city>Helsinki</city>\n",
    "  <skills>\n",
    "    <skill>JavaScrip</skill>\n",
    "    <skill>React</skill>\n",
    "    <skill>Python</skill>\n",
    "  </skills>\n",
    "</person>\n",
    "```\n",
    "\n",
    "For more information on how to read an XML file check the [documentation](https://docs.python.org/2/library/xml.etree.elementtree.html)\n",
    "\n",
    "```py\n",
    "import xml.etree.ElementTree as ET\n",
    "tree = ET.parse('./files/xml_example.xml')\n",
    "root = tree.getroot()\n",
    "print('Root tag:', root.tag)\n",
    "print('Attribute:', root.attrib)\n",
    "for child in root:\n",
    "    print('field: ', child.tag)\n",
    "```\n",
    "\n",
    "```sh\n",
    "# output\n",
    "Root tag: person\n",
    "Attribute: {'gender': 'male'}\n",
    "field: name\n",
    "field: country\n",
    "field: city\n",
    "field: skills\n",
    "```\n"
   ]
  },
  {
   "cell_type": "code",
   "execution_count": 5,
   "id": "89d64e97",
   "metadata": {},
   "outputs": [
    {
     "data": {
      "text/plain": [
       "'E:Besant Python\\\\my_text.txt.txt'"
      ]
     },
     "execution_count": 5,
     "metadata": {},
     "output_type": "execute_result"
    }
   ],
   "source": [
    "r\"E:Besant Python\\my_text.txt.txt\""
   ]
  },
  {
   "cell_type": "code",
   "execution_count": 7,
   "id": "1220e72f",
   "metadata": {},
   "outputs": [
    {
     "data": {
      "text/plain": [
       "<_io.TextIOWrapper name='E:\\\\Besant Python\\\\my_text.txt.txt' mode='r' encoding='cp1252'>"
      ]
     },
     "execution_count": 7,
     "metadata": {},
     "output_type": "execute_result"
    }
   ],
   "source": [
    "open(r\"E:\\Besant Python\\my_text.txt.txt\")"
   ]
  },
  {
   "cell_type": "code",
   "execution_count": 10,
   "id": "43e347e6",
   "metadata": {},
   "outputs": [
    {
     "name": "stdout",
     "output_type": "stream",
     "text": [
      "'Hello'\n"
     ]
    }
   ],
   "source": [
    "f = open(r\"E:\\Besant Python\\my_text.txt.txt\")\n",
    "print(f.read())\n",
    "f.close()"
   ]
  },
  {
   "cell_type": "code",
   "execution_count": 11,
   "id": "abdc07ec",
   "metadata": {},
   "outputs": [
    {
     "name": "stdout",
     "output_type": "stream",
     "text": [
      "Articles are found in many Indo-European languages, Semitic languages (only the definite article), and Polynesian languages; however, they are formally absent from many of the world's major languages including Chinese, Japanese, Korean, Mongolian, many Turkic languages (including Tatar, Bashkir, Tuvan and Chuvash), many Uralic languages (incl. Finnic[a] and Saami languages), Indonesian, Hindi-Urdu, Punjabi, Tamil, the Baltic languages, the majority of Slavic languages, the Bantu languages (incl. Swahili). In some languages that do have articles, such as some North Caucasian languages, the use of articles is optional; however, in others like English and German it is mandatory in all cases.\n",
      "\n",
      "Linguists believe the common ancestor of the Indo-European languages, Proto-Indo-European, did not have articles. Most of the languages in this family do not have definite or indefinite articles: there is no article in Latin or Sanskrit, nor in some modern Indo-European languages, such as the families of Slavic languages (except for Bulgarian and Macedonian, which are rather distinctive among the Slavic languages in their grammar, and some Northern Russian dialects[7]), Baltic languages and many Indo-Aryan languages. Although Classical Greek had a definite article (which has survived into Modern Greek and which bears strong functional resemblance to the German definite article, which it is related to), the earlier Homeric Greek used this article largely as a pronoun or demonstrative, whereas the earliest known form of Greek known as Mycenaean Greek did not have any articles. Articles developed independently in several language families.\n",
      "\n",
      "Not all languages have both definite and indefinite articles, and some languages have different types of definite and indefinite articles to distinguish finer shades of meaning: for example, French and Italian have a partitive article used for indefinite mass nouns, whereas Colognian has two distinct sets of definite articles indicating focus and uniqueness, and Macedonian uses definite articles in a demonstrative sense, with a tripartite distinction (proximal, medial, distal) based on distance from the speaker or interlocutor. The words this and that (and their plurals, these and those) can be understood in English as, ultimately, forms of the definite article the (whose declension in Old English included thaes, an ancestral form of this/that and these/those).\n",
      "\n",
      "In many languages, the form of the article may vary according to the gender, number, or case of its noun. In some languages the article may be the only indication of the case. Many languages do not use articles at all, and may use other ways of indicating old versus new information, such as topicâ€“comment constructions.\n"
     ]
    }
   ],
   "source": [
    "f = open(r\"E:\\Besant Python\\wiki_large_para.txt\")\n",
    "print(f.read())\n",
    "f.close()"
   ]
  },
  {
   "cell_type": "code",
   "execution_count": 14,
   "id": "4440dda1",
   "metadata": {},
   "outputs": [
    {
     "name": "stdout",
     "output_type": "stream",
     "text": [
      "Articles are found in man\n"
     ]
    }
   ],
   "source": [
    "f = open(r\"E:\\Besant Python\\wiki_large_para.txt\")\n",
    "print(f.read(25))\n",
    "f.close()"
   ]
  },
  {
   "cell_type": "code",
   "execution_count": 17,
   "id": "e7faac74",
   "metadata": {},
   "outputs": [
    {
     "name": "stdout",
     "output_type": "stream",
     "text": [
      "I'am Naveen.\n",
      "\n"
     ]
    }
   ],
   "source": [
    "f = open(r\"E:\\Besant Python 2\\file_handling.txt\")\n",
    "print(f.readline())\n",
    "f.close()"
   ]
  },
  {
   "cell_type": "code",
   "execution_count": 18,
   "id": "1effc89c",
   "metadata": {},
   "outputs": [
    {
     "name": "stdout",
     "output_type": "stream",
     "text": [
      "[\"I'am Naveen.\\n\", 'Welcome to python class.\\n', 'This is file handling.']\n"
     ]
    }
   ],
   "source": [
    "f = open(r\"E:\\Besant Python 2\\file_handling.txt\")\n",
    "print(f.readlines())\n",
    "f.close()"
   ]
  },
  {
   "cell_type": "code",
   "execution_count": 20,
   "id": "0baeafb8",
   "metadata": {},
   "outputs": [
    {
     "name": "stdout",
     "output_type": "stream",
     "text": [
      "[\"I'am Naveen.\", 'Welcome to python class.', 'This is file handling.']\n"
     ]
    }
   ],
   "source": [
    "f = open(r\"E:\\Besant Python 2\\file_handling.txt\")\n",
    "print(f.read().splitlines())\n",
    "f.close()"
   ]
  },
  {
   "cell_type": "code",
   "execution_count": 15,
   "id": "aeef396b",
   "metadata": {},
   "outputs": [],
   "source": [
    "new_text = '\\nHey, This is the new line.'"
   ]
  },
  {
   "cell_type": "code",
   "execution_count": 16,
   "id": "2b540ea4",
   "metadata": {},
   "outputs": [],
   "source": [
    "f = open(r\"E:\\Besant Python 2\\file_handling.txt\", 'a')\n",
    "f.write(new_text)\n",
    "f.close()"
   ]
  },
  {
   "cell_type": "code",
   "execution_count": 17,
   "id": "bced8c75",
   "metadata": {},
   "outputs": [
    {
     "name": "stdout",
     "output_type": "stream",
     "text": [
      "\n",
      " Hey, This is the new line.\n",
      "Hey, This is the new line.\n"
     ]
    }
   ],
   "source": [
    "f = open(r\"E:\\Besant Python 2\\file_handling.txt\", 'r')\n",
    "print(f.read())\n",
    "f.close()"
   ]
  },
  {
   "cell_type": "code",
   "execution_count": 18,
   "id": "d62f9458",
   "metadata": {},
   "outputs": [],
   "source": [
    "f = open(r\"E:\\Besant Python 2\\file_handling.txt\", 'w')\n",
    "f.write(new_text)\n",
    "f.close()"
   ]
  },
  {
   "cell_type": "code",
   "execution_count": 19,
   "id": "e2f0da15",
   "metadata": {},
   "outputs": [
    {
     "name": "stdout",
     "output_type": "stream",
     "text": [
      "\n",
      "Hey, This is the new line.\n"
     ]
    }
   ],
   "source": [
    "f = open(r\"E:\\Besant Python 2\\file_handling.txt\", 'r')\n",
    "print(f.read())\n",
    "f.close()"
   ]
  },
  {
   "cell_type": "code",
   "execution_count": 21,
   "id": "d6524ce5",
   "metadata": {},
   "outputs": [
    {
     "ename": "FileExistsError",
     "evalue": "[Errno 17] File exists: 'E:\\\\Besant Python 2\\\\new_text_for_file_handling.txt'",
     "output_type": "error",
     "traceback": [
      "\u001b[1;31m---------------------------------------------------------------------------\u001b[0m",
      "\u001b[1;31mFileExistsError\u001b[0m                           Traceback (most recent call last)",
      "Input \u001b[1;32mIn [21]\u001b[0m, in \u001b[0;36m<cell line: 1>\u001b[1;34m()\u001b[0m\n\u001b[1;32m----> 1\u001b[0m f \u001b[38;5;241m=\u001b[39m \u001b[38;5;28;43mopen\u001b[39;49m\u001b[43m(\u001b[49m\u001b[38;5;124;43mr\u001b[39;49m\u001b[38;5;124;43m\"\u001b[39;49m\u001b[38;5;124;43mE:\u001b[39;49m\u001b[38;5;124;43m\\\u001b[39;49m\u001b[38;5;124;43mBesant Python 2\u001b[39;49m\u001b[38;5;124;43m\\\u001b[39;49m\u001b[38;5;124;43mnew_text_for_file_handling.txt\u001b[39;49m\u001b[38;5;124;43m\"\u001b[39;49m\u001b[43m,\u001b[49m\u001b[43m \u001b[49m\u001b[38;5;124;43m'\u001b[39;49m\u001b[38;5;124;43mx\u001b[39;49m\u001b[38;5;124;43m'\u001b[39;49m\u001b[43m)\u001b[49m\n\u001b[0;32m      2\u001b[0m f\u001b[38;5;241m.\u001b[39mclose()\n",
      "\u001b[1;31mFileExistsError\u001b[0m: [Errno 17] File exists: 'E:\\\\Besant Python 2\\\\new_text_for_file_handling.txt'"
     ]
    }
   ],
   "source": [
    "f = open(r\"E:\\Besant Python 2\\new_text_for_file_handling.txt\", 'x')\n",
    "f.close()"
   ]
  },
  {
   "cell_type": "code",
   "execution_count": 22,
   "id": "aba11365",
   "metadata": {},
   "outputs": [
    {
     "name": "stdout",
     "output_type": "stream",
     "text": [
      "b'\\r\\nHey, This is the new line.'\n"
     ]
    }
   ],
   "source": [
    "f = open(r\"E:\\Besant Python 2\\file_handling.txt\", 'rb')\n",
    "print(f.read())\n",
    "f.close()"
   ]
  },
  {
   "cell_type": "code",
   "execution_count": 24,
   "id": "6d8eba7d",
   "metadata": {},
   "outputs": [],
   "source": [
    "new_text = b'Hey, This is the new line.'"
   ]
  },
  {
   "cell_type": "code",
   "execution_count": 32,
   "id": "ec808e60",
   "metadata": {},
   "outputs": [],
   "source": [
    "f = open(\"file_handling.txt\", 'wb')\n",
    "f.write(new_text)\n",
    "f.close()"
   ]
  },
  {
   "cell_type": "code",
   "execution_count": 28,
   "id": "3b09e70e",
   "metadata": {},
   "outputs": [
    {
     "ename": "FileNotFoundError",
     "evalue": "[Errno 2] No such file or directory: 'E:\\\\Besant Python 2\\\\file_handling.txt'",
     "output_type": "error",
     "traceback": [
      "\u001b[1;31m---------------------------------------------------------------------------\u001b[0m",
      "\u001b[1;31mFileNotFoundError\u001b[0m                         Traceback (most recent call last)",
      "Input \u001b[1;32mIn [28]\u001b[0m, in \u001b[0;36m<cell line: 1>\u001b[1;34m()\u001b[0m\n\u001b[1;32m----> 1\u001b[0m f \u001b[38;5;241m=\u001b[39m \u001b[38;5;28;43mopen\u001b[39;49m\u001b[43m(\u001b[49m\u001b[38;5;124;43mr\u001b[39;49m\u001b[38;5;124;43m\"\u001b[39;49m\u001b[38;5;124;43mE:\u001b[39;49m\u001b[38;5;124;43m\\\u001b[39;49m\u001b[38;5;124;43mBesant Python 2\u001b[39;49m\u001b[38;5;124;43m\\\u001b[39;49m\u001b[38;5;124;43mfile_handling.txt\u001b[39;49m\u001b[38;5;124;43m\"\u001b[39;49m\u001b[43m,\u001b[49m\u001b[43m \u001b[49m\u001b[38;5;124;43m'\u001b[39;49m\u001b[38;5;124;43mrb\u001b[39;49m\u001b[38;5;124;43m'\u001b[39;49m\u001b[43m)\u001b[49m\n\u001b[0;32m      2\u001b[0m \u001b[38;5;28mprint\u001b[39m(f\u001b[38;5;241m.\u001b[39mread())\n",
      "\u001b[1;31mFileNotFoundError\u001b[0m: [Errno 2] No such file or directory: 'E:\\\\Besant Python 2\\\\file_handling.txt'"
     ]
    }
   ],
   "source": [
    "f = open(r\"E:\\Besant Python 2\\file_handling.txt\", 'rb')\n",
    "print(f.read())\n",
    "f.close()"
   ]
  },
  {
   "cell_type": "code",
   "execution_count": 33,
   "id": "4e1928c7",
   "metadata": {},
   "outputs": [
    {
     "data": {
      "text/plain": [
       "'D:\\\\AG internship'"
      ]
     },
     "execution_count": 33,
     "metadata": {},
     "output_type": "execute_result"
    }
   ],
   "source": [
    "import os\n",
    "os.getcwd()"
   ]
  },
  {
   "cell_type": "code",
   "execution_count": 34,
   "id": "49b784dc",
   "metadata": {},
   "outputs": [],
   "source": [
    "os.remove(\"file_handling.txt\")"
   ]
  },
  {
   "cell_type": "markdown",
   "id": "b5af7f52",
   "metadata": {},
   "source": [
    "## JSON"
   ]
  },
  {
   "cell_type": "code",
   "execution_count": 2,
   "id": "99c8eee1",
   "metadata": {},
   "outputs": [],
   "source": [
    "import json"
   ]
  },
  {
   "cell_type": "code",
   "execution_count": 4,
   "id": "cda535a9",
   "metadata": {},
   "outputs": [],
   "source": [
    "dictionary1 = {'Person':{'Name':'John',\n",
    "          'age': 28,\n",
    "          'Gender':'Male'}}"
   ]
  },
  {
   "cell_type": "code",
   "execution_count": 7,
   "id": "5c0e18ed",
   "metadata": {},
   "outputs": [
    {
     "data": {
      "text/plain": [
       "{'Person': {'Name': 'John', 'age': 28, 'Gender': 'Male'}}"
      ]
     },
     "execution_count": 7,
     "metadata": {},
     "output_type": "execute_result"
    }
   ],
   "source": [
    "dictionary1"
   ]
  },
  {
   "cell_type": "code",
   "execution_count": 5,
   "id": "4cdb3f47",
   "metadata": {},
   "outputs": [],
   "source": [
    "person_json = json.dumps(dictionary1)"
   ]
  },
  {
   "cell_type": "code",
   "execution_count": 6,
   "id": "c7a9de1a",
   "metadata": {},
   "outputs": [
    {
     "data": {
      "text/plain": [
       "'{\"Person\": {\"Name\": \"John\", \"age\": 28, \"Gender\": \"Male\"}}'"
      ]
     },
     "execution_count": 6,
     "metadata": {},
     "output_type": "execute_result"
    }
   ],
   "source": [
    "person_json"
   ]
  },
  {
   "cell_type": "code",
   "execution_count": 18,
   "id": "336bb920",
   "metadata": {},
   "outputs": [
    {
     "data": {
      "text/plain": [
       "{'Person': {'Name': 'John', 'age': 28, 'Gender': 'Male'}}"
      ]
     },
     "execution_count": 18,
     "metadata": {},
     "output_type": "execute_result"
    }
   ],
   "source": [
    "json.loads(person_json)"
   ]
  },
  {
   "cell_type": "code",
   "execution_count": 19,
   "id": "7a508236",
   "metadata": {},
   "outputs": [],
   "source": [
    "dict1 = {'Fruits': ['Apple', 'Mango', 'Banana', 'Orange'],\n",
    "        'Cost':[200, 150, 50, 100]}"
   ]
  },
  {
   "cell_type": "code",
   "execution_count": 20,
   "id": "ea4f5dcb",
   "metadata": {},
   "outputs": [
    {
     "data": {
      "text/plain": [
       "{'Fruits': ['Apple', 'Mango', 'Banana', 'Orange'], 'Cost': [200, 150, 50, 100]}"
      ]
     },
     "execution_count": 20,
     "metadata": {},
     "output_type": "execute_result"
    }
   ],
   "source": [
    "dict1"
   ]
  },
  {
   "cell_type": "code",
   "execution_count": 21,
   "id": "814db7e8",
   "metadata": {},
   "outputs": [],
   "source": [
    "import pandas"
   ]
  },
  {
   "cell_type": "code",
   "execution_count": 34,
   "id": "ebf447ad",
   "metadata": {},
   "outputs": [],
   "source": [
    "obj1 = pandas.DataFrame(dict1)"
   ]
  },
  {
   "cell_type": "code",
   "execution_count": 35,
   "id": "498022b2",
   "metadata": {},
   "outputs": [],
   "source": [
    "obj1.to_csv('My_csv.csv', index = False)"
   ]
  },
  {
   "cell_type": "code",
   "execution_count": 37,
   "id": "cee6cd29",
   "metadata": {},
   "outputs": [
    {
     "data": {
      "text/html": [
       "<div>\n",
       "<style scoped>\n",
       "    .dataframe tbody tr th:only-of-type {\n",
       "        vertical-align: middle;\n",
       "    }\n",
       "\n",
       "    .dataframe tbody tr th {\n",
       "        vertical-align: top;\n",
       "    }\n",
       "\n",
       "    .dataframe thead th {\n",
       "        text-align: right;\n",
       "    }\n",
       "</style>\n",
       "<table border=\"1\" class=\"dataframe\">\n",
       "  <thead>\n",
       "    <tr style=\"text-align: right;\">\n",
       "      <th></th>\n",
       "      <th>Fruits</th>\n",
       "      <th>Cost</th>\n",
       "    </tr>\n",
       "  </thead>\n",
       "  <tbody>\n",
       "    <tr>\n",
       "      <th>0</th>\n",
       "      <td>Apple</td>\n",
       "      <td>200</td>\n",
       "    </tr>\n",
       "    <tr>\n",
       "      <th>1</th>\n",
       "      <td>Mango</td>\n",
       "      <td>150</td>\n",
       "    </tr>\n",
       "    <tr>\n",
       "      <th>2</th>\n",
       "      <td>Banana</td>\n",
       "      <td>50</td>\n",
       "    </tr>\n",
       "    <tr>\n",
       "      <th>3</th>\n",
       "      <td>Orange</td>\n",
       "      <td>100</td>\n",
       "    </tr>\n",
       "  </tbody>\n",
       "</table>\n",
       "</div>"
      ],
      "text/plain": [
       "   Fruits  Cost\n",
       "0   Apple   200\n",
       "1   Mango   150\n",
       "2  Banana    50\n",
       "3  Orange   100"
      ]
     },
     "execution_count": 37,
     "metadata": {},
     "output_type": "execute_result"
    }
   ],
   "source": [
    "pandas.read_csv('My_csv.csv', index_col = 'Unnamed: 0')"
   ]
  },
  {
   "cell_type": "code",
   "execution_count": 33,
   "id": "59ffde7b",
   "metadata": {},
   "outputs": [
    {
     "name": "stdout",
     "output_type": "stream",
     "text": [
      "Articles are found in man\n"
     ]
    }
   ],
   "source": [
    "f = open(r\"E:\\Besant Python\\wiki_large_para.txt\")\n",
    "print(f.read(25))\n",
    "f.close()"
   ]
  },
  {
   "cell_type": "code",
   "execution_count": 32,
   "id": "f5388c74",
   "metadata": {},
   "outputs": [
    {
     "name": "stdout",
     "output_type": "stream",
     "text": [
      "Articles are found in many Indo-European languages, Semitic languages (only the definite article), and Polynesian languages; however, they are formally absent from many of the world's major languages including Chinese, Japanese, Korean, Mongolian, many Turkic languages (including Tatar, Bashkir, Tuvan and Chuvash), many Uralic languages (incl. Finnic[a] and Saami languages), Indonesian, Hindi-Urdu, Punjabi, Tamil, the Baltic languages, the majority of Slavic languages, the Bantu languages (incl. Swahili). In some languages that do have articles, such as some North Caucasian languages, the use of articles is optional; however, in others like English and German it is mandatory in all cases.\n",
      "\n",
      "Linguists believe the common ancestor of the Indo-European languages, Proto-Indo-European, did not have articles. Most of the languages in this family do not have definite or indefinite articles: there is no article in Latin or Sanskrit, nor in some modern Indo-European languages, such as the families of Slavic languages (except for Bulgarian and Macedonian, which are rather distinctive among the Slavic languages in their grammar, and some Northern Russian dialects[7]), Baltic languages and many Indo-Aryan languages. Although Classical Greek had a definite article (which has survived into Modern Greek and which bears strong functional resemblance to the German definite article, which it is related to), the earlier Homeric Greek used this article largely as a pronoun or demonstrative, whereas the earliest known form of Greek known as Mycenaean Greek did not have any articles. Articles developed independently in several language families.\n",
      "\n",
      "Not all languages have both definite and indefinite articles, and some languages have different types of definite and indefinite articles to distinguish finer shades of meaning: for example, French and Italian have a partitive article used for indefinite mass nouns, whereas Colognian has two distinct sets of definite articles indicating focus and uniqueness, and Macedonian uses definite articles in a demonstrative sense, with a tripartite distinction (proximal, medial, distal) based on distance from the speaker or interlocutor. The words this and that (and their plurals, these and those) can be understood in English as, ultimately, forms of the definite article the (whose declension in Old English included thaes, an ancestral form of this/that and these/those).\n",
      "\n",
      "In many languages, the form of the article may vary according to the gender, number, or case of its noun. In some languages the article may be the only indication of the case. Many languages do not use articles at all, and may use other ways of indicating old versus new information, such as topicâ€“comment constructions.\n"
     ]
    }
   ],
   "source": [
    "with open(r\"E:\\Besant Python\\wiki_large_para.txt\") as f:\n",
    "    print(f.read())"
   ]
  },
  {
   "cell_type": "code",
   "execution_count": null,
   "id": "ee337f28",
   "metadata": {},
   "outputs": [],
   "source": []
  }
 ],
 "metadata": {
  "kernelspec": {
   "display_name": "Python 3 (ipykernel)",
   "language": "python",
   "name": "python3"
  },
  "language_info": {
   "codemirror_mode": {
    "name": "ipython",
    "version": 3
   },
   "file_extension": ".py",
   "mimetype": "text/x-python",
   "name": "python",
   "nbconvert_exporter": "python",
   "pygments_lexer": "ipython3",
   "version": "3.9.12"
  }
 },
 "nbformat": 4,
 "nbformat_minor": 5
}

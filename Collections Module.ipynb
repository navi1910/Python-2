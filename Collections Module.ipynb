{
 "cells": [
  {
   "cell_type": "code",
   "execution_count": 1,
   "id": "9ee24899",
   "metadata": {},
   "outputs": [],
   "source": [
    "from collections import *"
   ]
  },
  {
   "cell_type": "markdown",
   "id": "eb7a2521",
   "metadata": {},
   "source": [
    "Deque -> Doubly Ended Queue"
   ]
  },
  {
   "cell_type": "code",
   "execution_count": 2,
   "id": "9aac3ed0",
   "metadata": {},
   "outputs": [],
   "source": [
    "q1 = deque(['apple', 'orange', 'pineapple'])"
   ]
  },
  {
   "cell_type": "code",
   "execution_count": 3,
   "id": "e328ed39",
   "metadata": {},
   "outputs": [
    {
     "data": {
      "text/plain": [
       "deque(['apple', 'orange', 'pineapple'])"
      ]
     },
     "execution_count": 3,
     "metadata": {},
     "output_type": "execute_result"
    }
   ],
   "source": [
    "q1"
   ]
  },
  {
   "cell_type": "code",
   "execution_count": 4,
   "id": "b3c3093d",
   "metadata": {},
   "outputs": [],
   "source": [
    "q1.append('banana')"
   ]
  },
  {
   "cell_type": "code",
   "execution_count": 5,
   "id": "f324f310",
   "metadata": {},
   "outputs": [
    {
     "data": {
      "text/plain": [
       "deque(['apple', 'orange', 'pineapple', 'banana'])"
      ]
     },
     "execution_count": 5,
     "metadata": {},
     "output_type": "execute_result"
    }
   ],
   "source": [
    "q1"
   ]
  },
  {
   "cell_type": "code",
   "execution_count": 6,
   "id": "93fd4dd6",
   "metadata": {},
   "outputs": [],
   "source": [
    "q1.appendleft('grapes')"
   ]
  },
  {
   "cell_type": "code",
   "execution_count": 7,
   "id": "4102289e",
   "metadata": {},
   "outputs": [
    {
     "data": {
      "text/plain": [
       "deque(['grapes', 'apple', 'orange', 'pineapple', 'banana'])"
      ]
     },
     "execution_count": 7,
     "metadata": {},
     "output_type": "execute_result"
    }
   ],
   "source": [
    "q1"
   ]
  },
  {
   "cell_type": "code",
   "execution_count": 8,
   "id": "13360b02",
   "metadata": {},
   "outputs": [
    {
     "data": {
      "text/plain": [
       "'banana'"
      ]
     },
     "execution_count": 8,
     "metadata": {},
     "output_type": "execute_result"
    }
   ],
   "source": [
    "q1.pop()"
   ]
  },
  {
   "cell_type": "code",
   "execution_count": 10,
   "id": "f01e7283",
   "metadata": {},
   "outputs": [
    {
     "data": {
      "text/plain": [
       "'grapes'"
      ]
     },
     "execution_count": 10,
     "metadata": {},
     "output_type": "execute_result"
    }
   ],
   "source": [
    "q1.popleft()"
   ]
  },
  {
   "cell_type": "code",
   "execution_count": 11,
   "id": "ee74c6cc",
   "metadata": {},
   "outputs": [
    {
     "data": {
      "text/plain": [
       "deque(['apple', 'orange', 'pineapple'])"
      ]
     },
     "execution_count": 11,
     "metadata": {},
     "output_type": "execute_result"
    }
   ],
   "source": [
    "q1"
   ]
  },
  {
   "cell_type": "code",
   "execution_count": 16,
   "id": "ffcf1933",
   "metadata": {},
   "outputs": [],
   "source": [
    "q2 = deque([1,2,3,4,5,1,2,3,4,5,1])"
   ]
  },
  {
   "cell_type": "code",
   "execution_count": 17,
   "id": "7c068d47",
   "metadata": {},
   "outputs": [
    {
     "data": {
      "text/plain": [
       "3"
      ]
     },
     "execution_count": 17,
     "metadata": {},
     "output_type": "execute_result"
    }
   ],
   "source": [
    "q2.count(1)"
   ]
  },
  {
   "cell_type": "code",
   "execution_count": 20,
   "id": "8ca2fbb7",
   "metadata": {},
   "outputs": [
    {
     "data": {
      "text/plain": [
       "5"
      ]
     },
     "execution_count": 20,
     "metadata": {},
     "output_type": "execute_result"
    }
   ],
   "source": [
    "q2.index(1, 1, -1)"
   ]
  },
  {
   "cell_type": "code",
   "execution_count": 21,
   "id": "06c69269",
   "metadata": {},
   "outputs": [
    {
     "data": {
      "text/plain": [
       "9"
      ]
     },
     "execution_count": 21,
     "metadata": {},
     "output_type": "execute_result"
    }
   ],
   "source": [
    "q2.index(5, 7, -1)"
   ]
  },
  {
   "cell_type": "code",
   "execution_count": 23,
   "id": "3cbd62f7",
   "metadata": {},
   "outputs": [
    {
     "data": {
      "text/plain": [
       "0"
      ]
     },
     "execution_count": 23,
     "metadata": {},
     "output_type": "execute_result"
    }
   ],
   "source": [
    "q1.index('apple')"
   ]
  },
  {
   "cell_type": "code",
   "execution_count": 24,
   "id": "6a21b71d",
   "metadata": {},
   "outputs": [],
   "source": [
    "q1.insert(0, 'grapes')"
   ]
  },
  {
   "cell_type": "code",
   "execution_count": 25,
   "id": "77677cb8",
   "metadata": {},
   "outputs": [
    {
     "data": {
      "text/plain": [
       "deque(['grapes', 'apple', 'orange', 'pineapple'])"
      ]
     },
     "execution_count": 25,
     "metadata": {},
     "output_type": "execute_result"
    }
   ],
   "source": [
    "q1"
   ]
  },
  {
   "cell_type": "code",
   "execution_count": 26,
   "id": "87bfce8f",
   "metadata": {},
   "outputs": [],
   "source": [
    "q1.insert(2, 'banana')"
   ]
  },
  {
   "cell_type": "code",
   "execution_count": 27,
   "id": "37e992ea",
   "metadata": {},
   "outputs": [
    {
     "data": {
      "text/plain": [
       "deque(['grapes', 'apple', 'banana', 'orange', 'pineapple'])"
      ]
     },
     "execution_count": 27,
     "metadata": {},
     "output_type": "execute_result"
    }
   ],
   "source": [
    "q1"
   ]
  },
  {
   "cell_type": "code",
   "execution_count": 28,
   "id": "11a8008e",
   "metadata": {},
   "outputs": [],
   "source": [
    "q1.extend(['kiwi', 'watermelon'])"
   ]
  },
  {
   "cell_type": "code",
   "execution_count": 30,
   "id": "d9daacdb",
   "metadata": {},
   "outputs": [],
   "source": [
    "q1.extendleft(['strawberry', 'mango'])"
   ]
  },
  {
   "cell_type": "code",
   "execution_count": 32,
   "id": "d2661dbc",
   "metadata": {},
   "outputs": [],
   "source": [
    "q1.rotate(4)"
   ]
  },
  {
   "cell_type": "code",
   "execution_count": 34,
   "id": "8e760640",
   "metadata": {},
   "outputs": [],
   "source": [
    "q1.rotate(-4)"
   ]
  },
  {
   "cell_type": "code",
   "execution_count": 36,
   "id": "8e4ccc87",
   "metadata": {},
   "outputs": [],
   "source": [
    "q1.reverse()"
   ]
  },
  {
   "cell_type": "code",
   "execution_count": 37,
   "id": "366fbcab",
   "metadata": {},
   "outputs": [
    {
     "data": {
      "text/plain": [
       "deque(['watermelon',\n",
       "       'kiwi',\n",
       "       'pineapple',\n",
       "       'orange',\n",
       "       'banana',\n",
       "       'apple',\n",
       "       'grapes',\n",
       "       'strawberry',\n",
       "       'mango'])"
      ]
     },
     "execution_count": 37,
     "metadata": {},
     "output_type": "execute_result"
    }
   ],
   "source": [
    "q1"
   ]
  },
  {
   "cell_type": "markdown",
   "id": "945801fa",
   "metadata": {},
   "source": [
    "# ChainMap"
   ]
  },
  {
   "cell_type": "code",
   "execution_count": 38,
   "id": "0a84ad12",
   "metadata": {},
   "outputs": [],
   "source": [
    "d1 = {'Name': 'John', 'Age': 28, 'Gender': 'Male'}\n",
    "d2 = {'Name': 'Mary', 'Age': 32, 'Gender': 'Female'}\n",
    "d3 = {'Name': 'Sarah', 'Age': 12, 'Gender': 'Female'}"
   ]
  },
  {
   "cell_type": "code",
   "execution_count": 39,
   "id": "bfbe3f49",
   "metadata": {},
   "outputs": [],
   "source": [
    "ch1 = ChainMap(d1, d2, d3)"
   ]
  },
  {
   "cell_type": "code",
   "execution_count": 40,
   "id": "9553ee0b",
   "metadata": {},
   "outputs": [
    {
     "data": {
      "text/plain": [
       "ChainMap({'Name': 'John', 'Age': 28, 'Gender': 'Male'}, {'Name': 'Mary', 'Age': 32, 'Gender': 'Female'}, {'Name': 'Sarah', 'Age': 12, 'Gender': 'Female'})"
      ]
     },
     "execution_count": 40,
     "metadata": {},
     "output_type": "execute_result"
    }
   ],
   "source": [
    "ch1"
   ]
  },
  {
   "cell_type": "code",
   "execution_count": 41,
   "id": "91b98c8d",
   "metadata": {},
   "outputs": [
    {
     "data": {
      "text/plain": [
       "KeysView(ChainMap({'Name': 'John', 'Age': 28, 'Gender': 'Male'}, {'Name': 'Mary', 'Age': 32, 'Gender': 'Female'}, {'Name': 'Sarah', 'Age': 12, 'Gender': 'Female'}))"
      ]
     },
     "execution_count": 41,
     "metadata": {},
     "output_type": "execute_result"
    }
   ],
   "source": [
    "ch1.keys()"
   ]
  },
  {
   "cell_type": "code",
   "execution_count": 42,
   "id": "2d56f0e4",
   "metadata": {},
   "outputs": [
    {
     "data": {
      "text/plain": [
       "ValuesView(ChainMap({'Name': 'John', 'Age': 28, 'Gender': 'Male'}, {'Name': 'Mary', 'Age': 32, 'Gender': 'Female'}, {'Name': 'Sarah', 'Age': 12, 'Gender': 'Female'}))"
      ]
     },
     "execution_count": 42,
     "metadata": {},
     "output_type": "execute_result"
    }
   ],
   "source": [
    "ch1.values()"
   ]
  },
  {
   "cell_type": "code",
   "execution_count": 44,
   "id": "77f51a33",
   "metadata": {},
   "outputs": [
    {
     "data": {
      "text/plain": [
       "[{'Name': 'John', 'Age': 28, 'Gender': 'Male'},\n",
       " {'Name': 'Mary', 'Age': 32, 'Gender': 'Female'},\n",
       " {'Name': 'Sarah', 'Age': 12, 'Gender': 'Female'}]"
      ]
     },
     "execution_count": 44,
     "metadata": {},
     "output_type": "execute_result"
    }
   ],
   "source": [
    "ch1.maps"
   ]
  },
  {
   "cell_type": "code",
   "execution_count": 45,
   "id": "e000edb0",
   "metadata": {},
   "outputs": [],
   "source": [
    "d4 = {'Name': 'Peter', 'Age': 22, 'Gender': 'Male'}"
   ]
  },
  {
   "cell_type": "code",
   "execution_count": 46,
   "id": "9b23628b",
   "metadata": {},
   "outputs": [
    {
     "data": {
      "text/plain": [
       "ChainMap({'Name': 'Peter', 'Age': 22, 'Gender': 'Male'}, {'Name': 'John', 'Age': 28, 'Gender': 'Male'}, {'Name': 'Mary', 'Age': 32, 'Gender': 'Female'}, {'Name': 'Sarah', 'Age': 12, 'Gender': 'Female'})"
      ]
     },
     "execution_count": 46,
     "metadata": {},
     "output_type": "execute_result"
    }
   ],
   "source": [
    "ch1.new_child(d4)"
   ]
  },
  {
   "cell_type": "markdown",
   "id": "0e9fe14d",
   "metadata": {},
   "source": [
    "# Counter"
   ]
  },
  {
   "cell_type": "code",
   "execution_count": 55,
   "id": "c2ee87d5",
   "metadata": {},
   "outputs": [],
   "source": [
    "l1 = [10, 12, 11 , 10, 11, 10]"
   ]
  },
  {
   "cell_type": "code",
   "execution_count": 56,
   "id": "548a397d",
   "metadata": {},
   "outputs": [],
   "source": [
    "c1 = Counter(l1)"
   ]
  },
  {
   "cell_type": "code",
   "execution_count": 57,
   "id": "7d23b11e",
   "metadata": {},
   "outputs": [
    {
     "data": {
      "text/plain": [
       "Counter({10: 3, 12: 1, 11: 2})"
      ]
     },
     "execution_count": 57,
     "metadata": {},
     "output_type": "execute_result"
    }
   ],
   "source": [
    "c1"
   ]
  },
  {
   "cell_type": "code",
   "execution_count": 58,
   "id": "813f15db",
   "metadata": {},
   "outputs": [
    {
     "data": {
      "text/plain": [
       "dict_keys([10, 12, 11])"
      ]
     },
     "execution_count": 58,
     "metadata": {},
     "output_type": "execute_result"
    }
   ],
   "source": [
    "c1.keys()"
   ]
  },
  {
   "cell_type": "code",
   "execution_count": 59,
   "id": "ba509f22",
   "metadata": {},
   "outputs": [
    {
     "data": {
      "text/plain": [
       "dict_values([3, 1, 2])"
      ]
     },
     "execution_count": 59,
     "metadata": {},
     "output_type": "execute_result"
    }
   ],
   "source": [
    "c1.values()"
   ]
  },
  {
   "cell_type": "code",
   "execution_count": 60,
   "id": "0837df8f",
   "metadata": {},
   "outputs": [
    {
     "name": "stdout",
     "output_type": "stream",
     "text": [
      "10\n",
      "12\n",
      "11\n"
     ]
    }
   ],
   "source": [
    "for i in c1:\n",
    "    print(i)"
   ]
  },
  {
   "cell_type": "code",
   "execution_count": 61,
   "id": "f1727a7a",
   "metadata": {},
   "outputs": [
    {
     "name": "stdout",
     "output_type": "stream",
     "text": [
      "10\n",
      "10\n",
      "10\n",
      "12\n",
      "11\n",
      "11\n"
     ]
    }
   ],
   "source": [
    "for i in c1.elements():\n",
    "    print(i)"
   ]
  },
  {
   "cell_type": "code",
   "execution_count": 68,
   "id": "0526f971",
   "metadata": {},
   "outputs": [],
   "source": [
    "c2 = Counter(apple = 10, banana = 5, cherry = 6)"
   ]
  },
  {
   "cell_type": "code",
   "execution_count": 69,
   "id": "576a3941",
   "metadata": {},
   "outputs": [
    {
     "data": {
      "text/plain": [
       "Counter({'apple': 10, 'banana': 5, 'cherry': 6})"
      ]
     },
     "execution_count": 69,
     "metadata": {},
     "output_type": "execute_result"
    }
   ],
   "source": [
    "c2"
   ]
  },
  {
   "cell_type": "code",
   "execution_count": 70,
   "id": "7b8b37ed",
   "metadata": {},
   "outputs": [
    {
     "name": "stdout",
     "output_type": "stream",
     "text": [
      "apple\n",
      "apple\n",
      "apple\n",
      "apple\n",
      "apple\n",
      "apple\n",
      "apple\n",
      "apple\n",
      "apple\n",
      "apple\n",
      "banana\n",
      "banana\n",
      "banana\n",
      "banana\n",
      "banana\n",
      "cherry\n",
      "cherry\n",
      "cherry\n",
      "cherry\n",
      "cherry\n",
      "cherry\n"
     ]
    }
   ],
   "source": [
    "for items in c2.elements():\n",
    "    print(items)"
   ]
  },
  {
   "cell_type": "markdown",
   "id": "d2fdbdb9",
   "metadata": {},
   "source": [
    "## OrderedDict"
   ]
  },
  {
   "cell_type": "code",
   "execution_count": 4,
   "id": "3d8edb13",
   "metadata": {},
   "outputs": [],
   "source": [
    "from collections import *"
   ]
  },
  {
   "cell_type": "code",
   "execution_count": 5,
   "id": "2a0c1d50",
   "metadata": {},
   "outputs": [],
   "source": [
    "from collections import OrderedDict, Counter"
   ]
  },
  {
   "cell_type": "code",
   "execution_count": 25,
   "id": "55931207",
   "metadata": {},
   "outputs": [],
   "source": [
    "dict1 = {}"
   ]
  },
  {
   "cell_type": "code",
   "execution_count": 26,
   "id": "a11cde75",
   "metadata": {},
   "outputs": [],
   "source": [
    "dict1['a'] = 1"
   ]
  },
  {
   "cell_type": "code",
   "execution_count": 27,
   "id": "872b915a",
   "metadata": {},
   "outputs": [],
   "source": [
    "dict1['b'] = 2"
   ]
  },
  {
   "cell_type": "code",
   "execution_count": 11,
   "id": "5e06a076",
   "metadata": {},
   "outputs": [
    {
     "name": "stdout",
     "output_type": "stream",
     "text": [
      "a 1\n",
      "b 2\n"
     ]
    }
   ],
   "source": [
    "for key, value in dict1.items():\n",
    "    print(key, value)"
   ]
  },
  {
   "cell_type": "code",
   "execution_count": 12,
   "id": "043e4e46",
   "metadata": {},
   "outputs": [],
   "source": [
    "od = OrderedDict()"
   ]
  },
  {
   "cell_type": "code",
   "execution_count": 13,
   "id": "c34f02f7",
   "metadata": {},
   "outputs": [],
   "source": [
    "od['1'] = 'a'\n",
    "od['2'] = 'b'\n",
    "od['3'] = 'c'"
   ]
  },
  {
   "cell_type": "code",
   "execution_count": 14,
   "id": "1fd0df78",
   "metadata": {},
   "outputs": [
    {
     "data": {
      "text/plain": [
       "OrderedDict([('1', 'a'), ('2', 'b'), ('3', 'c')])"
      ]
     },
     "execution_count": 14,
     "metadata": {},
     "output_type": "execute_result"
    }
   ],
   "source": [
    "od"
   ]
  },
  {
   "cell_type": "markdown",
   "id": "b0ea50cb",
   "metadata": {},
   "source": [
    "## DefaultDictionary"
   ]
  },
  {
   "cell_type": "code",
   "execution_count": 16,
   "id": "adcf3ac6",
   "metadata": {},
   "outputs": [],
   "source": [
    "def value():\n",
    "    return 'No value entered'"
   ]
  },
  {
   "cell_type": "code",
   "execution_count": 17,
   "id": "add06527",
   "metadata": {},
   "outputs": [],
   "source": [
    "dict2 = defaultdict(value)"
   ]
  },
  {
   "cell_type": "code",
   "execution_count": 18,
   "id": "63ec336c",
   "metadata": {},
   "outputs": [],
   "source": [
    "dict2['a'] = 1"
   ]
  },
  {
   "cell_type": "code",
   "execution_count": 20,
   "id": "24da3f8a",
   "metadata": {},
   "outputs": [
    {
     "data": {
      "text/plain": [
       "'No value entered'"
      ]
     },
     "execution_count": 20,
     "metadata": {},
     "output_type": "execute_result"
    }
   ],
   "source": [
    "dict2['b']"
   ]
  },
  {
   "cell_type": "code",
   "execution_count": 21,
   "id": "09f9d2c4",
   "metadata": {},
   "outputs": [
    {
     "data": {
      "text/plain": [
       "defaultdict(<function __main__.value()>, {'a': 1, 'b': 'No value entered'})"
      ]
     },
     "execution_count": 21,
     "metadata": {},
     "output_type": "execute_result"
    }
   ],
   "source": [
    "dict2"
   ]
  },
  {
   "cell_type": "markdown",
   "id": "f505eb66",
   "metadata": {},
   "source": [
    "## UserDict"
   ]
  },
  {
   "cell_type": "code",
   "execution_count": 24,
   "id": "a10e9719",
   "metadata": {},
   "outputs": [],
   "source": [
    "del dict1"
   ]
  },
  {
   "cell_type": "code",
   "execution_count": 30,
   "id": "e507b502",
   "metadata": {},
   "outputs": [
    {
     "data": {
      "text/plain": [
       "{'a': 1, 'b': 2}"
      ]
     },
     "execution_count": 30,
     "metadata": {},
     "output_type": "execute_result"
    }
   ],
   "source": [
    "dict1"
   ]
  },
  {
   "cell_type": "code",
   "execution_count": 39,
   "id": "6919d728",
   "metadata": {},
   "outputs": [],
   "source": [
    "class MyDict(UserDict):\n",
    "    def __del__(self):\n",
    "        raise RuntimeError('Deletion not allowed')\n",
    "    \n",
    "    def pop(self, s = None):\n",
    "        raise RuntimeError('Pop not allowed')"
   ]
  },
  {
   "cell_type": "code",
   "execution_count": 43,
   "id": "1ae56f01",
   "metadata": {},
   "outputs": [],
   "source": [
    "d = MyDict({'a': 1, 'b': 2})"
   ]
  },
  {
   "cell_type": "code",
   "execution_count": 41,
   "id": "be2771ab",
   "metadata": {},
   "outputs": [
    {
     "name": "stderr",
     "output_type": "stream",
     "text": [
      "Exception ignored in: <function MyDict.__del__ at 0x000001A4B68F2D30>\n",
      "Traceback (most recent call last):\n",
      "  File \"C:\\Users\\X1 Yoga\\AppData\\Local\\Temp\\ipykernel_11300\\402903149.py\", line 3, in __del__\n",
      "RuntimeError: Deletion not allowed\n"
     ]
    }
   ],
   "source": [
    "del d"
   ]
  },
  {
   "cell_type": "code",
   "execution_count": 44,
   "id": "7cea1b07",
   "metadata": {},
   "outputs": [
    {
     "ename": "RuntimeError",
     "evalue": "Pop not allowed",
     "output_type": "error",
     "traceback": [
      "\u001b[1;31m---------------------------------------------------------------------------\u001b[0m",
      "\u001b[1;31mRuntimeError\u001b[0m                              Traceback (most recent call last)",
      "Input \u001b[1;32mIn [44]\u001b[0m, in \u001b[0;36m<cell line: 1>\u001b[1;34m()\u001b[0m\n\u001b[1;32m----> 1\u001b[0m \u001b[43md\u001b[49m\u001b[38;5;241;43m.\u001b[39;49m\u001b[43mpop\u001b[49m\u001b[43m(\u001b[49m\u001b[43m)\u001b[49m\n",
      "Input \u001b[1;32mIn [39]\u001b[0m, in \u001b[0;36mMyDict.pop\u001b[1;34m(self, s)\u001b[0m\n\u001b[0;32m      5\u001b[0m \u001b[38;5;28;01mdef\u001b[39;00m \u001b[38;5;21mpop\u001b[39m(\u001b[38;5;28mself\u001b[39m, s \u001b[38;5;241m=\u001b[39m \u001b[38;5;28;01mNone\u001b[39;00m):\n\u001b[1;32m----> 6\u001b[0m     \u001b[38;5;28;01mraise\u001b[39;00m \u001b[38;5;167;01mRuntimeError\u001b[39;00m(\u001b[38;5;124m'\u001b[39m\u001b[38;5;124mPop not allowed\u001b[39m\u001b[38;5;124m'\u001b[39m)\n",
      "\u001b[1;31mRuntimeError\u001b[0m: Pop not allowed"
     ]
    }
   ],
   "source": [
    "d.pop()"
   ]
  },
  {
   "cell_type": "markdown",
   "id": "9a45f84f",
   "metadata": {},
   "source": [
    "## UserList"
   ]
  },
  {
   "cell_type": "code",
   "execution_count": 53,
   "id": "ae19a0e8",
   "metadata": {},
   "outputs": [],
   "source": [
    "class MyList(UserList):\n",
    "    def __del__(self):\n",
    "        raise RuntimeWarning('Deletion not allowed')\n",
    "    \n",
    "    def remove(self, s = None):\n",
    "        raise RuntimeError('Remove not allowed')"
   ]
  },
  {
   "cell_type": "code",
   "execution_count": 54,
   "id": "f800f17f",
   "metadata": {},
   "outputs": [],
   "source": [
    "l1 = MyList([1,2,3,4,5])"
   ]
  },
  {
   "cell_type": "code",
   "execution_count": 55,
   "id": "579dd215",
   "metadata": {},
   "outputs": [
    {
     "ename": "RuntimeError",
     "evalue": "Remove not allowed",
     "output_type": "error",
     "traceback": [
      "\u001b[1;31m---------------------------------------------------------------------------\u001b[0m",
      "\u001b[1;31mRuntimeError\u001b[0m                              Traceback (most recent call last)",
      "Input \u001b[1;32mIn [55]\u001b[0m, in \u001b[0;36m<cell line: 1>\u001b[1;34m()\u001b[0m\n\u001b[1;32m----> 1\u001b[0m \u001b[43ml1\u001b[49m\u001b[38;5;241;43m.\u001b[39;49m\u001b[43mremove\u001b[49m\u001b[43m(\u001b[49m\u001b[43m)\u001b[49m\n",
      "Input \u001b[1;32mIn [53]\u001b[0m, in \u001b[0;36mMyList.remove\u001b[1;34m(self, s)\u001b[0m\n\u001b[0;32m      5\u001b[0m \u001b[38;5;28;01mdef\u001b[39;00m \u001b[38;5;21mremove\u001b[39m(\u001b[38;5;28mself\u001b[39m, s \u001b[38;5;241m=\u001b[39m \u001b[38;5;28;01mNone\u001b[39;00m):\n\u001b[1;32m----> 6\u001b[0m     \u001b[38;5;28;01mraise\u001b[39;00m \u001b[38;5;167;01mRuntimeError\u001b[39;00m(\u001b[38;5;124m'\u001b[39m\u001b[38;5;124mRemove not allowed\u001b[39m\u001b[38;5;124m'\u001b[39m)\n",
      "\u001b[1;31mRuntimeError\u001b[0m: Remove not allowed"
     ]
    }
   ],
   "source": [
    "l1.remove()"
   ]
  },
  {
   "cell_type": "code",
   "execution_count": 57,
   "id": "8f97392e",
   "metadata": {},
   "outputs": [],
   "source": [
    "class Mystr(UserString):\n",
    "    def __del__(self):\n",
    "        raise RuntimeError('Deletion not allowed')\n",
    "    \n",
    "    def remove(self, s = None):\n",
    "        raise RuntimeError('Remove not allowed')"
   ]
  },
  {
   "cell_type": "code",
   "execution_count": null,
   "id": "481b241b",
   "metadata": {},
   "outputs": [],
   "source": []
  }
 ],
 "metadata": {
  "kernelspec": {
   "display_name": "Python 3 (ipykernel)",
   "language": "python",
   "name": "python3"
  },
  "language_info": {
   "codemirror_mode": {
    "name": "ipython",
    "version": 3
   },
   "file_extension": ".py",
   "mimetype": "text/x-python",
   "name": "python",
   "nbconvert_exporter": "python",
   "pygments_lexer": "ipython3",
   "version": "3.9.12"
  }
 },
 "nbformat": 4,
 "nbformat_minor": 5
}

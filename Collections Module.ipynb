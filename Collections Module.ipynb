{
 "cells": [
  {
   "cell_type": "code",
   "execution_count": 1,
   "id": "9ee24899",
   "metadata": {},
   "outputs": [],
   "source": [
    "from collections import *"
   ]
  },
  {
   "cell_type": "markdown",
   "id": "eb7a2521",
   "metadata": {},
   "source": [
    "Deque -> Doubly Ended Queue"
   ]
  },
  {
   "cell_type": "code",
   "execution_count": 2,
   "id": "9aac3ed0",
   "metadata": {},
   "outputs": [],
   "source": [
    "q1 = deque(['apple', 'orange', 'pineapple'])"
   ]
  },
  {
   "cell_type": "code",
   "execution_count": 3,
   "id": "e328ed39",
   "metadata": {},
   "outputs": [
    {
     "data": {
      "text/plain": [
       "deque(['apple', 'orange', 'pineapple'])"
      ]
     },
     "execution_count": 3,
     "metadata": {},
     "output_type": "execute_result"
    }
   ],
   "source": [
    "q1"
   ]
  },
  {
   "cell_type": "code",
   "execution_count": 4,
   "id": "b3c3093d",
   "metadata": {},
   "outputs": [],
   "source": [
    "q1.append('banana')"
   ]
  },
  {
   "cell_type": "code",
   "execution_count": 5,
   "id": "f324f310",
   "metadata": {},
   "outputs": [
    {
     "data": {
      "text/plain": [
       "deque(['apple', 'orange', 'pineapple', 'banana'])"
      ]
     },
     "execution_count": 5,
     "metadata": {},
     "output_type": "execute_result"
    }
   ],
   "source": [
    "q1"
   ]
  },
  {
   "cell_type": "code",
   "execution_count": 6,
   "id": "93fd4dd6",
   "metadata": {},
   "outputs": [],
   "source": [
    "q1.appendleft('grapes')"
   ]
  },
  {
   "cell_type": "code",
   "execution_count": 7,
   "id": "4102289e",
   "metadata": {},
   "outputs": [
    {
     "data": {
      "text/plain": [
       "deque(['grapes', 'apple', 'orange', 'pineapple', 'banana'])"
      ]
     },
     "execution_count": 7,
     "metadata": {},
     "output_type": "execute_result"
    }
   ],
   "source": [
    "q1"
   ]
  },
  {
   "cell_type": "code",
   "execution_count": 8,
   "id": "13360b02",
   "metadata": {},
   "outputs": [
    {
     "data": {
      "text/plain": [
       "'banana'"
      ]
     },
     "execution_count": 8,
     "metadata": {},
     "output_type": "execute_result"
    }
   ],
   "source": [
    "q1.pop()"
   ]
  },
  {
   "cell_type": "code",
   "execution_count": 10,
   "id": "f01e7283",
   "metadata": {},
   "outputs": [
    {
     "data": {
      "text/plain": [
       "'grapes'"
      ]
     },
     "execution_count": 10,
     "metadata": {},
     "output_type": "execute_result"
    }
   ],
   "source": [
    "q1.popleft()"
   ]
  },
  {
   "cell_type": "code",
   "execution_count": 11,
   "id": "ee74c6cc",
   "metadata": {},
   "outputs": [
    {
     "data": {
      "text/plain": [
       "deque(['apple', 'orange', 'pineapple'])"
      ]
     },
     "execution_count": 11,
     "metadata": {},
     "output_type": "execute_result"
    }
   ],
   "source": [
    "q1"
   ]
  },
  {
   "cell_type": "code",
   "execution_count": 16,
   "id": "ffcf1933",
   "metadata": {},
   "outputs": [],
   "source": [
    "q2 = deque([1,2,3,4,5,1,2,3,4,5,1])"
   ]
  },
  {
   "cell_type": "code",
   "execution_count": 17,
   "id": "7c068d47",
   "metadata": {},
   "outputs": [
    {
     "data": {
      "text/plain": [
       "3"
      ]
     },
     "execution_count": 17,
     "metadata": {},
     "output_type": "execute_result"
    }
   ],
   "source": [
    "q2.count(1)"
   ]
  },
  {
   "cell_type": "code",
   "execution_count": 20,
   "id": "8ca2fbb7",
   "metadata": {},
   "outputs": [
    {
     "data": {
      "text/plain": [
       "5"
      ]
     },
     "execution_count": 20,
     "metadata": {},
     "output_type": "execute_result"
    }
   ],
   "source": [
    "q2.index(1, 1, -1)"
   ]
  },
  {
   "cell_type": "code",
   "execution_count": 21,
   "id": "06c69269",
   "metadata": {},
   "outputs": [
    {
     "data": {
      "text/plain": [
       "9"
      ]
     },
     "execution_count": 21,
     "metadata": {},
     "output_type": "execute_result"
    }
   ],
   "source": [
    "q2.index(5, 7, -1)"
   ]
  },
  {
   "cell_type": "code",
   "execution_count": 23,
   "id": "3cbd62f7",
   "metadata": {},
   "outputs": [
    {
     "data": {
      "text/plain": [
       "0"
      ]
     },
     "execution_count": 23,
     "metadata": {},
     "output_type": "execute_result"
    }
   ],
   "source": [
    "q1.index('apple')"
   ]
  },
  {
   "cell_type": "code",
   "execution_count": 24,
   "id": "6a21b71d",
   "metadata": {},
   "outputs": [],
   "source": [
    "q1.insert(0, 'grapes')"
   ]
  },
  {
   "cell_type": "code",
   "execution_count": 25,
   "id": "77677cb8",
   "metadata": {},
   "outputs": [
    {
     "data": {
      "text/plain": [
       "deque(['grapes', 'apple', 'orange', 'pineapple'])"
      ]
     },
     "execution_count": 25,
     "metadata": {},
     "output_type": "execute_result"
    }
   ],
   "source": [
    "q1"
   ]
  },
  {
   "cell_type": "code",
   "execution_count": 26,
   "id": "87bfce8f",
   "metadata": {},
   "outputs": [],
   "source": [
    "q1.insert(2, 'banana')"
   ]
  },
  {
   "cell_type": "code",
   "execution_count": 27,
   "id": "37e992ea",
   "metadata": {},
   "outputs": [
    {
     "data": {
      "text/plain": [
       "deque(['grapes', 'apple', 'banana', 'orange', 'pineapple'])"
      ]
     },
     "execution_count": 27,
     "metadata": {},
     "output_type": "execute_result"
    }
   ],
   "source": [
    "q1"
   ]
  },
  {
   "cell_type": "code",
   "execution_count": 28,
   "id": "11a8008e",
   "metadata": {},
   "outputs": [],
   "source": [
    "q1.extend(['kiwi', 'watermelon'])"
   ]
  },
  {
   "cell_type": "code",
   "execution_count": 30,
   "id": "d9daacdb",
   "metadata": {},
   "outputs": [],
   "source": [
    "q1.extendleft(['strawberry', 'mango'])"
   ]
  },
  {
   "cell_type": "code",
   "execution_count": 32,
   "id": "d2661dbc",
   "metadata": {},
   "outputs": [],
   "source": [
    "q1.rotate(4)"
   ]
  },
  {
   "cell_type": "code",
   "execution_count": 34,
   "id": "8e760640",
   "metadata": {},
   "outputs": [],
   "source": [
    "q1.rotate(-4)"
   ]
  },
  {
   "cell_type": "code",
   "execution_count": 36,
   "id": "8e4ccc87",
   "metadata": {},
   "outputs": [],
   "source": [
    "q1.reverse()"
   ]
  },
  {
   "cell_type": "code",
   "execution_count": 37,
   "id": "366fbcab",
   "metadata": {},
   "outputs": [
    {
     "data": {
      "text/plain": [
       "deque(['watermelon',\n",
       "       'kiwi',\n",
       "       'pineapple',\n",
       "       'orange',\n",
       "       'banana',\n",
       "       'apple',\n",
       "       'grapes',\n",
       "       'strawberry',\n",
       "       'mango'])"
      ]
     },
     "execution_count": 37,
     "metadata": {},
     "output_type": "execute_result"
    }
   ],
   "source": [
    "q1"
   ]
  },
  {
   "cell_type": "markdown",
   "id": "945801fa",
   "metadata": {},
   "source": [
    "# ChainMap"
   ]
  },
  {
   "cell_type": "code",
   "execution_count": 38,
   "id": "0a84ad12",
   "metadata": {},
   "outputs": [],
   "source": [
    "d1 = {'Name': 'John', 'Age': 28, 'Gender': 'Male'}\n",
    "d2 = {'Name': 'Mary', 'Age': 32, 'Gender': 'Female'}\n",
    "d3 = {'Name': 'Sarah', 'Age': 12, 'Gender': 'Female'}"
   ]
  },
  {
   "cell_type": "code",
   "execution_count": 39,
   "id": "bfbe3f49",
   "metadata": {},
   "outputs": [],
   "source": [
    "ch1 = ChainMap(d1, d2, d3)"
   ]
  },
  {
   "cell_type": "code",
   "execution_count": 40,
   "id": "9553ee0b",
   "metadata": {},
   "outputs": [
    {
     "data": {
      "text/plain": [
       "ChainMap({'Name': 'John', 'Age': 28, 'Gender': 'Male'}, {'Name': 'Mary', 'Age': 32, 'Gender': 'Female'}, {'Name': 'Sarah', 'Age': 12, 'Gender': 'Female'})"
      ]
     },
     "execution_count": 40,
     "metadata": {},
     "output_type": "execute_result"
    }
   ],
   "source": [
    "ch1"
   ]
  },
  {
   "cell_type": "code",
   "execution_count": 41,
   "id": "91b98c8d",
   "metadata": {},
   "outputs": [
    {
     "data": {
      "text/plain": [
       "KeysView(ChainMap({'Name': 'John', 'Age': 28, 'Gender': 'Male'}, {'Name': 'Mary', 'Age': 32, 'Gender': 'Female'}, {'Name': 'Sarah', 'Age': 12, 'Gender': 'Female'}))"
      ]
     },
     "execution_count": 41,
     "metadata": {},
     "output_type": "execute_result"
    }
   ],
   "source": [
    "ch1.keys()"
   ]
  },
  {
   "cell_type": "code",
   "execution_count": 42,
   "id": "2d56f0e4",
   "metadata": {},
   "outputs": [
    {
     "data": {
      "text/plain": [
       "ValuesView(ChainMap({'Name': 'John', 'Age': 28, 'Gender': 'Male'}, {'Name': 'Mary', 'Age': 32, 'Gender': 'Female'}, {'Name': 'Sarah', 'Age': 12, 'Gender': 'Female'}))"
      ]
     },
     "execution_count": 42,
     "metadata": {},
     "output_type": "execute_result"
    }
   ],
   "source": [
    "ch1.values()"
   ]
  },
  {
   "cell_type": "code",
   "execution_count": 44,
   "id": "77f51a33",
   "metadata": {},
   "outputs": [
    {
     "data": {
      "text/plain": [
       "[{'Name': 'John', 'Age': 28, 'Gender': 'Male'},\n",
       " {'Name': 'Mary', 'Age': 32, 'Gender': 'Female'},\n",
       " {'Name': 'Sarah', 'Age': 12, 'Gender': 'Female'}]"
      ]
     },
     "execution_count": 44,
     "metadata": {},
     "output_type": "execute_result"
    }
   ],
   "source": [
    "ch1.maps"
   ]
  },
  {
   "cell_type": "code",
   "execution_count": 45,
   "id": "e000edb0",
   "metadata": {},
   "outputs": [],
   "source": [
    "d4 = {'Name': 'Peter', 'Age': 22, 'Gender': 'Male'}"
   ]
  },
  {
   "cell_type": "code",
   "execution_count": 46,
   "id": "9b23628b",
   "metadata": {},
   "outputs": [
    {
     "data": {
      "text/plain": [
       "ChainMap({'Name': 'Peter', 'Age': 22, 'Gender': 'Male'}, {'Name': 'John', 'Age': 28, 'Gender': 'Male'}, {'Name': 'Mary', 'Age': 32, 'Gender': 'Female'}, {'Name': 'Sarah', 'Age': 12, 'Gender': 'Female'})"
      ]
     },
     "execution_count": 46,
     "metadata": {},
     "output_type": "execute_result"
    }
   ],
   "source": [
    "ch1.new_child(d4)"
   ]
  },
  {
   "cell_type": "markdown",
   "id": "0e9fe14d",
   "metadata": {},
   "source": [
    "# Counter"
   ]
  },
  {
   "cell_type": "code",
   "execution_count": 55,
   "id": "c2ee87d5",
   "metadata": {},
   "outputs": [],
   "source": [
    "l1 = [10, 12, 11 , 10, 11, 10]"
   ]
  },
  {
   "cell_type": "code",
   "execution_count": 56,
   "id": "548a397d",
   "metadata": {},
   "outputs": [],
   "source": [
    "c1 = Counter(l1)"
   ]
  },
  {
   "cell_type": "code",
   "execution_count": 57,
   "id": "7d23b11e",
   "metadata": {},
   "outputs": [
    {
     "data": {
      "text/plain": [
       "Counter({10: 3, 12: 1, 11: 2})"
      ]
     },
     "execution_count": 57,
     "metadata": {},
     "output_type": "execute_result"
    }
   ],
   "source": [
    "c1"
   ]
  },
  {
   "cell_type": "code",
   "execution_count": 58,
   "id": "813f15db",
   "metadata": {},
   "outputs": [
    {
     "data": {
      "text/plain": [
       "dict_keys([10, 12, 11])"
      ]
     },
     "execution_count": 58,
     "metadata": {},
     "output_type": "execute_result"
    }
   ],
   "source": [
    "c1.keys()"
   ]
  },
  {
   "cell_type": "code",
   "execution_count": 59,
   "id": "ba509f22",
   "metadata": {},
   "outputs": [
    {
     "data": {
      "text/plain": [
       "dict_values([3, 1, 2])"
      ]
     },
     "execution_count": 59,
     "metadata": {},
     "output_type": "execute_result"
    }
   ],
   "source": [
    "c1.values()"
   ]
  },
  {
   "cell_type": "code",
   "execution_count": 60,
   "id": "0837df8f",
   "metadata": {},
   "outputs": [
    {
     "name": "stdout",
     "output_type": "stream",
     "text": [
      "10\n",
      "12\n",
      "11\n"
     ]
    }
   ],
   "source": [
    "for i in c1:\n",
    "    print(i)"
   ]
  },
  {
   "cell_type": "code",
   "execution_count": 61,
   "id": "f1727a7a",
   "metadata": {},
   "outputs": [
    {
     "name": "stdout",
     "output_type": "stream",
     "text": [
      "10\n",
      "10\n",
      "10\n",
      "12\n",
      "11\n",
      "11\n"
     ]
    }
   ],
   "source": [
    "for i in c1.elements():\n",
    "    print(i)"
   ]
  },
  {
   "cell_type": "code",
   "execution_count": 68,
   "id": "0526f971",
   "metadata": {},
   "outputs": [],
   "source": [
    "c2 = Counter(apple = 10, banana = 5, cherry = 6)"
   ]
  },
  {
   "cell_type": "code",
   "execution_count": 69,
   "id": "576a3941",
   "metadata": {},
   "outputs": [
    {
     "data": {
      "text/plain": [
       "Counter({'apple': 10, 'banana': 5, 'cherry': 6})"
      ]
     },
     "execution_count": 69,
     "metadata": {},
     "output_type": "execute_result"
    }
   ],
   "source": [
    "c2"
   ]
  },
  {
   "cell_type": "code",
   "execution_count": 70,
   "id": "7b8b37ed",
   "metadata": {},
   "outputs": [
    {
     "name": "stdout",
     "output_type": "stream",
     "text": [
      "apple\n",
      "apple\n",
      "apple\n",
      "apple\n",
      "apple\n",
      "apple\n",
      "apple\n",
      "apple\n",
      "apple\n",
      "apple\n",
      "banana\n",
      "banana\n",
      "banana\n",
      "banana\n",
      "banana\n",
      "cherry\n",
      "cherry\n",
      "cherry\n",
      "cherry\n",
      "cherry\n",
      "cherry\n"
     ]
    }
   ],
   "source": [
    "for items in c2.elements():\n",
    "    print(items)"
   ]
  },
  {
   "cell_type": "code",
   "execution_count": null,
   "id": "bccd71fe",
   "metadata": {},
   "outputs": [],
   "source": []
  }
 ],
 "metadata": {
  "kernelspec": {
   "display_name": "Python 3 (ipykernel)",
   "language": "python",
   "name": "python3"
  },
  "language_info": {
   "codemirror_mode": {
    "name": "ipython",
    "version": 3
   },
   "file_extension": ".py",
   "mimetype": "text/x-python",
   "name": "python",
   "nbconvert_exporter": "python",
   "pygments_lexer": "ipython3",
   "version": "3.9.12"
  }
 },
 "nbformat": 4,
 "nbformat_minor": 5
}
